{
 "cells": [
  {
   "cell_type": "markdown",
   "metadata": {
    "slideshow": {
     "slide_type": "-"
    }
   },
   "source": [
    "# Tarea 1\n",
    "\n",
    "En la siguiente tarea, se requiere que implemente una regresión lineal sobre los datos vistos en la clase 1.\n",
    "\n",
    "Un aspecto fundamental en el análisis de datos es el estudio de las dependencias entre variables, por lo común, se desea conocer el efecto de una o varias variables sobre alguna otra, incluso, se busca usar la información obtenida para hacer predicciones sobre tal variable.\n",
    "\n",
    "La regresión lineal asume que existe (en promedio) una relación lineal entre los datos de entrada y los de salida, esto se puede modelar de la siguiente forma:\n",
    "\n",
    "$$y = a \\cdot x + b + \\epsilon$$\n",
    "\n",
    "Donde $\\epsilon$ es ruido blanco, que se asume distribuido de forma gaussiana $\\epsilon\\sim \\mathcal{N}(0, \\sigma)$. Esto se puede modelar de manera equivalente como:\n",
    "\n",
    "$$y = w \\cdot \\tilde{x} + \\epsilon, \\qquad w = \\left[\\begin{smallmatrix}a & b\\end{smallmatrix}\\right],\\; \\tilde{x} = \\left[\\begin{smallmatrix}x \\\\ 1\\end{smallmatrix}\\right].$$\n",
    "\n",
    "Se desea implementar tal modelo usando Python, para ello, se importan los módulos necesarios:"
   ]
  },
  {
   "cell_type": "code",
   "execution_count": null,
   "metadata": {
    "ExecuteTime": {
     "end_time": "2018-07-18T03:47:26.152601Z",
     "start_time": "2018-07-18T03:47:26.144650Z"
    },
    "slideshow": {
     "slide_type": "fragment"
    }
   },
   "outputs": [],
   "source": [
    "# Librerías externas\n",
    "import numpy as np                       # vectores y matrices\n",
    "import matplotlib.pyplot as plt          # gráficos\n",
    "\n",
    "from IPython.display import Math         # escribir LaTeX\n",
    "\n",
    "# Configura Jupyter para mostrar los gráficos embebidos en el documento\n",
    "%matplotlib inline"
   ]
  },
  {
   "cell_type": "markdown",
   "metadata": {
    "slideshow": {
     "slide_type": "slide"
    }
   },
   "source": [
    "### Ejercicio 1\n",
    "\n",
    "* Cargue los datos `SCI_HDI` usando `Numpy`.\n",
    "\n",
    "* Almacene los valores de `SCI` en la variable `x`, los de `HDI` en la variable `y`.\n",
    "\n",
    "* Agregue una columna de `1`'s al final de `x` para modelar regresión según la segunda formulación expuesta anteriormente. (Hint: `vstack`)\n",
    "\n",
    "El modulo `pyplot` presente en `matplotlib`, permite graficar de manera sencilla los datos que Usted a cargado, utilice la función `plot_scatter_x_y` definida a continuación, hace uso de tal recurso:"
   ]
  },
  {
   "cell_type": "code",
   "execution_count": null,
   "metadata": {
    "ExecuteTime": {
     "end_time": "2018-07-05T04:10:50.021284Z",
     "start_time": "2018-07-05T04:10:50.018174Z"
    }
   },
   "outputs": [],
   "source": [
    "def plot_x_y(X,Y, w = None, a=0, b=140):\n",
    "    ''' \n",
    "    Usa mtaplotlib para graficar con etiquetas 'X' e 'Y'. Si se le entega un vector de pesos w de dos dimensiones,\n",
    "    clacula la recta que estos pesos definen, por defecto calcula la recta en el intervalor [a,b] = [0,140]\n",
    "    '''\n",
    "    x = np.linspace(start=a,stop=b)\n",
    "    \n",
    "    plt.scatter(X,Y)\n",
    "    plt.xlabel('X')\n",
    "    plt.xlabel('Y')\n",
    "    \n",
    "    if w:\n",
    "        plt.plot(x,w[0]*x+w[1], 'r--')\n",
    "    \n",
    "    plt.show()"
   ]
  },
  {
   "cell_type": "markdown",
   "metadata": {},
   "source": [
    "* Use la función `plot_scatter_x_y` para visualizar los datos que ha importado. Se ve alguna tendencia en los datos ?"
   ]
  },
  {
   "cell_type": "markdown",
   "metadata": {
    "slideshow": {
     "slide_type": "slide"
    }
   },
   "source": [
    "Al optimizar el modelo anterior sobre los parámetros $w$ que minimizan el error cuadrático medio a los datos, encontrar la recta que explica mejor su relación se reduce a encontrar la pseudo-inversa de Moore-Penrose:\n",
    "$$w = (\\tilde{X}^T \\tilde{X})^{-1} \\tilde{X}^T Y$$\n",
    "\n",
    "### Ejercicio 2\n",
    "\n",
    "* Calcule la linea de regresión optima para los datos usando la expresión anterior. Para ello use la operación de `Numpy` `@` de multiplicación de matrices. \n",
    "\n",
    "Observación: Se recomienda el usar de `np.linalg.solve` sobre `np.linalg.inv` para la inversión de matrices, esto pues los algoritmos resolución para sistemas lineales presentan mejor estanilidad y rendimiento que aquellos de inversión directa de matrices."
   ]
  },
  {
   "cell_type": "code",
   "execution_count": null,
   "metadata": {
    "ExecuteTime": {
     "end_time": "2018-07-05T04:10:55.831197Z",
     "start_time": "2018-07-05T04:10:55.685061Z"
    }
   },
   "outputs": [],
   "source": [
    "A = ()\n",
    "B = \n",
    "\n",
    "w = np.linalg.solve(, )\n",
    "\n",
    "a = w[]\n",
    "b = w[]\n",
    "\n",
    "# Muestra la ecuacion de la recta:\n",
    "display(Math(\"y = {:.3} x {:+.3} + \\epsilon\".format(, )))\n",
    "\n",
    "plot_x_y(x,y, w = [,])"
   ]
  },
  {
   "cell_type": "markdown",
   "metadata": {
    "slideshow": {
     "slide_type": "slide"
    }
   },
   "source": [
    "Para observar la calidad del ajuste, es posible calcular el coeficiente de determinación $R^2$,\n",
    "$$R^2 = 1-\\frac{\\sum_i (y_i - w x_i)^2}{\\sum_i (y_i - \\overline{y})^2}.$$\n",
    "\n",
    "* Calcule los valores predichos por la regresión anterior, use tales valores para calcular $R^2$."
   ]
  },
  {
   "cell_type": "code",
   "execution_count": null,
   "metadata": {
    "ExecuteTime": {
     "end_time": "2018-07-05T04:16:36.163162Z",
     "start_time": "2018-07-05T04:16:36.158951Z"
    },
    "slideshow": {
     "slide_type": "fragment"
    }
   },
   "outputs": [],
   "source": [
    "predicted =  @ \n",
    "r2 = 1 - np.sum(( - )**2) / np.sum(( - np.mean())**2)\n",
    "\n",
    "display(Math(\"R^2 = {}\".format()))"
   ]
  }
 ],
 "metadata": {
  "kernelspec": {
   "display_name": "Python 3",
   "language": "python",
   "name": "python3"
  },
  "language_info": {
   "codemirror_mode": {
    "name": "ipython",
    "version": 3
   },
   "file_extension": ".py",
   "mimetype": "text/x-python",
   "name": "python",
   "nbconvert_exporter": "python",
   "pygments_lexer": "ipython3",
   "version": "3.6.4"
  },
  "varInspector": {
   "cols": {
    "lenName": 16,
    "lenType": 16,
    "lenVar": 40
   },
   "kernels_config": {
    "python": {
     "delete_cmd_postfix": "",
     "delete_cmd_prefix": "del ",
     "library": "var_list.py",
     "varRefreshCmd": "print(var_dic_list())"
    },
    "r": {
     "delete_cmd_postfix": ") ",
     "delete_cmd_prefix": "rm(",
     "library": "var_list.r",
     "varRefreshCmd": "cat(var_dic_list()) "
    }
   },
   "oldHeight": 123.18181799999999,
   "position": {
    "height": "40px",
    "left": "1475.45px",
    "right": "20px",
    "top": "120px",
    "width": "250px"
   },
   "types_to_exclude": [
    "module",
    "function",
    "builtin_function_or_method",
    "instance",
    "_Feature"
   ],
   "varInspector_section_display": "none",
   "window_display": true
  }
 },
 "nbformat": 4,
 "nbformat_minor": 2
}
