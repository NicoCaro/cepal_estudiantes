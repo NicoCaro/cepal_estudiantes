{
 "cells": [
  {
   "cell_type": "markdown",
   "metadata": {},
   "source": [
    "# Contenidos\n",
    "\n",
    "1. [Introducción](#intro)  \n",
    "2. [Importación y primeros pasos](#pp)  \n",
    "3. [Visualizaciones con Pandas y seaborn](#pdSns)  \n",
    "4. [Conclusión](#conclu)"
   ]
  },
  {
   "cell_type": "markdown",
   "metadata": {},
   "source": [
    "# Introducción<a id=\"intro\"></a>\n",
    "\n",
    "Lograr visualizaciones (plots) informativas es de gran importancia en análisis de datos. Su aplicación en este campo es transversal, abarcando desde la parte exploratoria, para por ejemplo, identificación de outliers o búsqueda de transformaciones en las variables. Por otra parte, las visualizaciones son una manera natural de mostrar los resultados obtenidos y facilitar la interpretación de los fenómenos estudiados. En Python existen librerías capaces de producir visualizaciones de manera intuitiva tanto estáticas como dinámicas, en este ámbito, la librería raíz es `matplotlib`. Tal librería está diseñada para la creación de visualizaciones de alta calidad para publicaciones. \n",
    "\n",
    "\n",
    "`Matplotlib` puede exportar visualizaciones en formatos vectorizados y comprimidos como son PDF, SVG, JPG, PNG, GIF , entre otros. Existe una extensa variedad de librerías gráficas basadas en `matplotlib`, una de ellas es `seaborn`, la cual también se explora en este capítulo."
   ]
  },
  {
   "cell_type": "markdown",
   "metadata": {},
   "source": [
    "# Importación y primeros pasos<a id=\"pp\"></a> \n",
    "\n",
    "Como con NumPy y Pandas, existe una convención a la hora de importar esta librería:"
   ]
  },
  {
   "cell_type": "code",
   "execution_count": null,
   "metadata": {
    "ExecuteTime": {
     "end_time": "2018-07-31T14:24:48.746525Z",
     "start_time": "2018-07-31T14:24:48.284948Z"
    }
   },
   "outputs": [],
   "source": [
    "import pandas as pd\n",
    "import matplotlib.pyplot as plt"
   ]
  },
  {
   "cell_type": "code",
   "execution_count": null,
   "metadata": {
    "ExecuteTime": {
     "end_time": "2018-07-31T14:24:48.953626Z",
     "start_time": "2018-07-31T14:24:48.748363Z"
    }
   },
   "outputs": [],
   "source": [
    "import numpy as np\n",
    "data = np.arange(10)\n",
    "plt.plot(data)"
   ]
  },
  {
   "cell_type": "markdown",
   "metadata": {},
   "source": [
    "Para trabajar de manera interactiva, la linea mágica:\n",
    "```\n",
    "%matplotlib notebook\n",
    "\n",
    "```\n",
    "Toma provecho de las capacidades del proyecto Jupyter."
   ]
  },
  {
   "cell_type": "code",
   "execution_count": null,
   "metadata": {
    "ExecuteTime": {
     "end_time": "2018-07-31T14:24:49.052959Z",
     "start_time": "2018-07-31T14:24:48.956068Z"
    }
   },
   "outputs": [],
   "source": [
    "%matplotlib notebook\n",
    "plt.plot(data)"
   ]
  },
  {
   "cell_type": "markdown",
   "metadata": {},
   "source": [
    "## Figuras y subplots\n",
    "\n",
    "Las visualizaciones `plots` en matplotlib actúan dentro de un objeto más general denominado figura o `figure`. Es posible crear un objeto `figure` vacío para luego agregar las visualizaciones deseadas a través de:\n",
    "\n",
    "```python\n",
    "fig = plt.figure()\n",
    "\n",
    "```\n",
    "Esto genera una ventana vacía, no obstante, es posible modificar opciones del objeto `fig` declarado anteriormente. Dentro de estas opciones se encuentra `figsize` la cual permite indicar el tamaño y relación de aspecto al momento de almacenar la visualización en el disco.\n",
    "\n",
    "Para insertar visualizaciones dentro de la figura recién creada, es necesario añadir un `subplot`, el método `add_subplot` permite agregar múltiples visualizaciones a la figura en la cual se invoca."
   ]
  },
  {
   "cell_type": "code",
   "execution_count": null,
   "metadata": {
    "ExecuteTime": {
     "end_time": "2018-07-31T14:24:49.064325Z",
     "start_time": "2018-07-31T14:24:49.055071Z"
    }
   },
   "outputs": [],
   "source": [
    "fig = plt.figure()"
   ]
  },
  {
   "cell_type": "code",
   "execution_count": null,
   "metadata": {
    "ExecuteTime": {
     "end_time": "2018-07-31T14:24:49.100546Z",
     "start_time": "2018-07-31T14:24:49.065823Z"
    }
   },
   "outputs": [],
   "source": [
    "ax1 = fig.add_subplot(2,2,1)"
   ]
  },
  {
   "cell_type": "markdown",
   "metadata": {},
   "source": [
    "El comando anterior indica que la figura tiene una estructura que comprende 2 visualizaciones por fila y 2 por columna, es decir la figura comprenderá 4 subfiguras de las cuales se selecciona la primera y se almacena como `ax1`."
   ]
  },
  {
   "cell_type": "markdown",
   "metadata": {},
   "source": [
    "**Ejercicio**\n",
    "\n",
    "* Agregue 2 subfiguras a la figura `fig`. estas deben estar en la esquina superior derecha e inferior izquierda. Denote estas subfiguras como `ax2` y `ax3`.\n",
    "\n",
    "Observación: En Jupyter, los plots se reinician luego de cada evaluación de celda, por lo tanto para obtener el esquema de subfiguras solicitado, debe declarar la figura y todos los subplots en la misma celda."
   ]
  },
  {
   "cell_type": "markdown",
   "metadata": {},
   "source": [
    "Al agregar un comando de visualización como por ejemplo:\n",
    "```pyhton\n",
    "plt.plot([-1,1,-1,1])\n",
    "```\n",
    "matplotlib modificará la última figura creada en su último subplot, en caso de ser una figura vacía, se creará un nuevo subplot en ella. Por lo tanto, al evaluar el código anterior, se deberá agregar una figura con forma de \"N\" en el último subplot del ejercicio anterior."
   ]
  },
  {
   "cell_type": "code",
   "execution_count": null,
   "metadata": {
    "ExecuteTime": {
     "end_time": "2018-07-31T14:24:49.267280Z",
     "start_time": "2018-07-31T14:24:49.258976Z"
    }
   },
   "outputs": [],
   "source": [
    "plt.plot([-1,1,-1,1])"
   ]
  },
  {
   "cell_type": "markdown",
   "metadata": {},
   "source": [
    "Por otra parte, es posible añadir visualizaciones en los demás subplots usando las variables antes almacenadas:"
   ]
  },
  {
   "cell_type": "code",
   "execution_count": null,
   "metadata": {
    "ExecuteTime": {
     "end_time": "2018-07-31T14:24:49.277220Z",
     "start_time": "2018-07-31T14:24:49.269074Z"
    }
   },
   "outputs": [],
   "source": [
    "ax2.plot(np.random.randn(10), 'r--')"
   ]
  },
  {
   "cell_type": "markdown",
   "metadata": {},
   "source": [
    "En tal caso, se indicó generar el gráfico de una variable aleatoria normal estándar, de la cual se extraen 10 muestras. El comando `r--` indica que el gráfico debe ser rojo, con líneas \"cortadas\" y posicionado en el subplot `ax2`.\n",
    "\n",
    "**Ejercicio**\n",
    "\n",
    "* Genere un arreglo aleatorio de dimensión 100, explore con tal arreglo  el método `hist`. ¿Qué función cumple el parámetro `alpha`?\n",
    "\n",
    "* Estudie el método `scatter`. ¿En qué se diferencia al método `plot`?\n"
   ]
  },
  {
   "cell_type": "markdown",
   "metadata": {},
   "source": [
    "Otra manera de obtener figuras compuestas de subplots es a través del método `plt.subplots`, este entrega como `return` una figura y un arreglo NumPy con los objetos `subplot` en su interior:\n",
    "```python\n",
    "fig, axes = plt.subplots(2,3)\n",
    "```"
   ]
  },
  {
   "cell_type": "code",
   "execution_count": null,
   "metadata": {
    "ExecuteTime": {
     "end_time": "2018-07-31T14:24:49.478956Z",
     "start_time": "2018-07-31T14:24:49.294745Z"
    }
   },
   "outputs": [],
   "source": [
    "fig, axes = plt.subplots(2,3)"
   ]
  },
  {
   "cell_type": "code",
   "execution_count": null,
   "metadata": {
    "ExecuteTime": {
     "end_time": "2018-07-31T14:24:49.486174Z",
     "start_time": "2018-07-31T14:24:49.481036Z"
    }
   },
   "outputs": [],
   "source": [
    "axes"
   ]
  },
  {
   "cell_type": "markdown",
   "metadata": {},
   "source": [
    "En cuanto a la variable `axes` esta presenta la facilidad de ser accedida como un arreglo de dos dimensiones, por ejemplo:"
   ]
  },
  {
   "cell_type": "code",
   "execution_count": null,
   "metadata": {
    "ExecuteTime": {
     "end_time": "2018-07-31T14:24:49.494643Z",
     "start_time": "2018-07-31T14:24:49.488157Z"
    }
   },
   "outputs": [],
   "source": [
    "axes[0,1]"
   ]
  },
  {
   "cell_type": "markdown",
   "metadata": {},
   "source": [
    "permite acceder al primer subplot de la segunda columna de la figura `fig`.\n",
    "\n",
    "**Ejercicio**\n",
    "\n",
    "* Utilice la notación anterior para graficar solo en los subplots correspondientes a la esquina inferior izquierda y esquina superior derecha.\n",
    "\n",
    "* Una opción bastante útil es la de mantener la misma escala en cada subplot de la figura creada. Explore las opciones `sharex` y `sharey`. ¿Cómo se comporta matplotlib al no indicar estas opciones ?"
   ]
  },
  {
   "cell_type": "markdown",
   "metadata": {},
   "source": [
    "## Ajustes de espaciado en subplots\n",
    "\n",
    "Por defecto, matplotlib maneja de manera automática el espacio alrededor de cada subplot. Esto se hace de manera relativa y en función a las dimensiones de la figura, sin embargo, es posible modificar esta opción utilizando `subplots_adjust` en objetos del tipo `Figure`:\n",
    "\n",
    "```python\n",
    "subplots_adjust(left=None, bottom=None, right=None, top=None,wspace=None, hspace=None)\n",
    "``` \n",
    "\n",
    "En este contexto, las variables `wspace` y `hspace` controlan el porcentaje de ancho (width) y alto (height) que se debe utilizar entre subplots. \n",
    "\n",
    "**Ejercicio**\n",
    "\n",
    "* Genere una figura con 4 histogramas, todas las subfiguras deben estar adyacentes unas con otras (no debe haber espacio entre ellas). (Hint: genere los histogramas usando 2 ciclos `for` anidados)"
   ]
  },
  {
   "cell_type": "markdown",
   "metadata": {},
   "source": [
    "## Colores, marcadores y estilos de línea\n",
    "\n",
    "La función de visualización principal de matplotlib `plot` permite ingresar arreglos de coordenadas `x` e `y`, en este caso, para producir un gráfico color verde con líneas o \"dashes\" se puede ingresar un arreglo `X` y un arreglo `Y` ambos de la misma dimensión y ejecutar:\n",
    "\n",
    "```python\n",
    "ax.plot(X,Y,'g--')\n",
    "```\n",
    "\n",
    "Donde `ax` es un subplot antes declarado. La notación anterior es una versión comprimida de las opciones `linesyle='--'` y `color='g'` de tal manera que el comando anterior equivale a ingresar:\n",
    "\n",
    "```python\n",
    "ax.plot(X,Y,linestyle = '--', color = 'g')\n",
    "```\n",
    "\n",
    "**Ejericio** \n",
    "\n",
    "* Compruebe lo antes descrito."
   ]
  },
  {
   "cell_type": "markdown",
   "metadata": {},
   "source": [
    "En matplotlib es posible personalizar los colores que se desea obtener en un gráfico, los colores más usados poseen su propia abreviación por ejemplo `'g'` se refiere a verde, `'k'` a negro, `'r'` a rojo, etc ...\n",
    "\n",
    "Si se desea ser aún más especifico, es posible ingresar un código hex para el color que se desea visualizar:\n",
    "\n",
    "**Ejercicio**\n",
    "\n",
    "* Cambie el color del gráfico anterior por uno en código hex de su elección."
   ]
  },
  {
   "cell_type": "markdown",
   "metadata": {},
   "source": [
    "Adicionalmente los plots pueden tener *marcadores* para resaltar las coordenadas correspondientes a los datos. Esto, debido a que la función `plot` genera una línea continua entre los puntos que se ingresan, por tanto, puede aparecer la necesidad de especificar las ubicaciones de los datos reales proporcionados. Los marcadores se acceden a través de la opción `marker` de la función `plot`, la siguiente [referencia](https://matplotlib.org/api/markers_api.htmlreferencia) proporciona los marcadores disponibles. Se puede acceder también a la notación simplificada utilizando por ejemplo:\n",
    "\n",
    "```python\n",
    "plt.plot(np.random.randn(30).cumsum(), 'ko-')\n",
    "```\n",
    "Donde el marcador es 'o' el color es negro y el tipo de línea es continuo."
   ]
  },
  {
   "cell_type": "code",
   "execution_count": null,
   "metadata": {
    "ExecuteTime": {
     "end_time": "2018-07-31T14:24:49.695619Z",
     "start_time": "2018-07-31T14:24:49.688545Z"
    }
   },
   "outputs": [],
   "source": [
    "plt.plot(np.random.randn(30).cumsum(), 'ko-')"
   ]
  },
  {
   "cell_type": "markdown",
   "metadata": {},
   "source": [
    "Como se puede observar, la interpretación entre los puntos del gráfico es hecha de manera lineal, esto se puede personalizar con la opción `drawstyle`, la siguiente [referencia](https://matplotlib.org/api/_as_gen/matplotlib.lines.Line2D.html#matplotlib.lines.Line2D.set_drawstyle) muestra los tipos de interpolación disponibles. \n",
    "\n",
    "En el siguiente ejemplo se especifica además la etiqueta o `label` de cada \"línea\" graficada:"
   ]
  },
  {
   "cell_type": "code",
   "execution_count": null,
   "metadata": {
    "ExecuteTime": {
     "end_time": "2018-07-31T14:24:49.711533Z",
     "start_time": "2018-07-31T14:24:49.697298Z"
    }
   },
   "outputs": [],
   "source": [
    "data = np.random.randn(30).cumsum()\n",
    "\n",
    "plt.plot(data, 'ro--', label='Default')\n",
    "plt.plot(data, 'k-' , drawstyle='steps-post', label='steps-post')\n",
    "plt.legend()"
   ]
  },
  {
   "cell_type": "markdown",
   "metadata": {},
   "source": [
    "Al final del ejemplo se ejecuta el comando `legend`, el cual indica que se de deben mostrar los objetos del tipo `label` declarados con la opción `label` en la función `plot`. En el caso de graficar sobre un subplot `ax` se puede llamar el método `ax.legend`."
   ]
  },
  {
   "cell_type": "markdown",
   "metadata": {},
   "source": [
    "## Ejes, etiquetas y leyendas\n",
    "\n",
    "\n",
    "Para personalizar los valores mostrados en el eje `x`, es posible usar las opciones `set_xticks` y `set_xticklabels`:"
   ]
  },
  {
   "cell_type": "code",
   "execution_count": null,
   "metadata": {
    "ExecuteTime": {
     "end_time": "2018-07-31T14:24:49.762596Z",
     "start_time": "2018-07-31T14:24:49.713045Z"
    }
   },
   "outputs": [],
   "source": [
    "# Genera una serie aleatoria\n",
    "\n",
    "fig = plt.figure()\n",
    "ax = fig.add_subplot(1,1,1)\n",
    "ax.plot(np.random.randn(500).cumsum())\n",
    "\n",
    "# Selecciona los puntos de interes en el eje x\n",
    "ticks = ax.set_xticks([0, 36,150, 225, 453])\n",
    "\n",
    "\n",
    "# Cambia los nombres de los valores en el eje\n",
    "\n",
    "labels = ax.set_xticklabels(['cero','A','B','X','W'], rotation=30, fontsize='large')"
   ]
  },
  {
   "cell_type": "markdown",
   "metadata": {
    "ExecuteTime": {
     "end_time": "2018-07-30T13:18:22.898983Z",
     "start_time": "2018-07-30T13:18:22.896545Z"
    }
   },
   "source": [
    "Es también posible agregar un titulo a la visualización, para ello se llama la función`set_title`:"
   ]
  },
  {
   "cell_type": "code",
   "execution_count": null,
   "metadata": {
    "ExecuteTime": {
     "end_time": "2018-07-31T14:24:49.769036Z",
     "start_time": "2018-07-31T14:24:49.764121Z"
    }
   },
   "outputs": [],
   "source": [
    "ax.set_title('Titulo de prueba')"
   ]
  },
  {
   "cell_type": "markdown",
   "metadata": {},
   "source": [
    "**Ejercicio**\n",
    "\n",
    "* Utilice el método `set_xlabel` para dar un nombre al eje `x` del plot anterior.\n",
    "\n",
    "\n",
    "Modificar el eje `y` consiste en el mismo procedimiento antes descrito."
   ]
  },
  {
   "cell_type": "markdown",
   "metadata": {},
   "source": [
    " Los objetos definidos por el método `add_subplots` se denominan `axes`, estos, como clase, poseen el método `set` que permite ingresar sus propiedades a través de un diccionario. En el caso anterior es posible configurar el subplot `ax` por medio de:\n"
   ]
  },
  {
   "cell_type": "code",
   "execution_count": null,
   "metadata": {
    "ExecuteTime": {
     "end_time": "2018-07-31T14:24:49.784282Z",
     "start_time": "2018-07-31T14:24:49.770619Z"
    }
   },
   "outputs": [],
   "source": [
    "ops = {\n",
    "    'title':'Titulo de prueba',\n",
    "    'xlabel':'Ejercicio'\n",
    "}\n",
    "\n",
    "ax.set(**ops)"
   ]
  },
  {
   "cell_type": "markdown",
   "metadata": {},
   "source": [
    "Se debe indicar el diccionario antes descrito utilizando como llaves los campos que se deseen ingresar, además se debe utilizar doble asterisco `**` al llamar el método `set`, esto pues la declaración de tal método recibe un diccionario con variables \"identificadas por nombre\" como entrada. En declaración de funciones esto se denota con el uso de variables `**kwars`."
   ]
  },
  {
   "cell_type": "markdown",
   "metadata": {},
   "source": [
    "## Leyendas\n",
    "\n",
    "Las leyendas corresponden al elemento principal de identificación de gráficos. Anteriormente se utilizó esta opción, en esta sección se estudia con más detalle.\n",
    "\n",
    "La manera más sencilla de agregar una leyenda, cosiste en primero crear una etiqueta pasando la opción `label` al crear la visualización de interés para luego llamar el método `legend`."
   ]
  },
  {
   "cell_type": "code",
   "execution_count": null,
   "metadata": {
    "ExecuteTime": {
     "end_time": "2018-07-31T14:24:49.834047Z",
     "start_time": "2018-07-31T14:24:49.785974Z"
    }
   },
   "outputs": [],
   "source": [
    "%matplotlib notebook \n",
    "from numpy.random import randn\n",
    "fig = plt.figure(); ax = fig.add_subplot(1, 1, 1)\n",
    "\n",
    "ax.plot(randn(100).cumsum(),'r'  , label='G_1')\n",
    "ax.plot(randn(100).cumsum(),'k--', label='G_2')\n",
    "ax.plot(randn(100).cumsum(),'g.-' , label='G_3')\n",
    "\n",
    "ax.legend()"
   ]
  },
  {
   "cell_type": "markdown",
   "metadata": {},
   "source": [
    "Como es de esperar, el método `legend` tiene opciones adicionales para, por ejemplo, controlar la posición de las legendas."
   ]
  },
  {
   "cell_type": "code",
   "execution_count": null,
   "metadata": {
    "ExecuteTime": {
     "end_time": "2018-07-31T14:24:49.868382Z",
     "start_time": "2018-07-31T14:24:49.836198Z"
    }
   },
   "outputs": [],
   "source": [
    "ax.legend?"
   ]
  },
  {
   "cell_type": "markdown",
   "metadata": {},
   "source": [
    "## Anotaciones y figuras sobre un subplot\n",
    "\n",
    "Hasta ahora, las visualizaciones generadas corresponden a figuras más bien estándar. En caso de querer agregar anotaciones adicionales, consistentes de texto, flechas u otras formas, es posible usar los métodos `text`, `arrow` y `annotate`. \n",
    "\n",
    "`text` genera un texto en las coordenadas (x,y) a elección, este método también presenta opciones extras sobre el estilo:\n",
    "\n",
    "```python\n",
    "ax.text(10,5,'Anotación Cepal', family='monospace', fontsize='10')\n",
    "```"
   ]
  },
  {
   "cell_type": "code",
   "execution_count": null,
   "metadata": {
    "ExecuteTime": {
     "end_time": "2018-07-31T14:24:49.875516Z",
     "start_time": "2018-07-31T14:24:49.870013Z"
    }
   },
   "outputs": [],
   "source": [
    "ax.text(70,5,'Anotación Cepal', family='monospace', fontsize='10')"
   ]
  },
  {
   "cell_type": "markdown",
   "metadata": {},
   "source": [
    "Las anotaciones pueden también dibujar flechas con texto informativo. A modo de ejemplo se analizan los datos \n",
    "\n",
    "```\n",
    "pip install datachile\n",
    "```\n"
   ]
  },
  {
   "cell_type": "markdown",
   "metadata": {},
   "source": [
    "## Qué es DataChile ?\n",
    "\n",
    "https://es.datachile.io/"
   ]
  },
  {
   "cell_type": "code",
   "execution_count": null,
   "metadata": {
    "ExecuteTime": {
     "end_time": "2018-07-31T14:24:51.459582Z",
     "start_time": "2018-07-31T14:24:49.877507Z"
    }
   },
   "outputs": [],
   "source": [
    "from datachile import ChileCube\n",
    "\n",
    "client = ChileCube()\n",
    "cube =  \"psu\"\n",
    "\n",
    "dd = client.get_drilldowns(cube)\n",
    "print(dd)"
   ]
  },
  {
   "cell_type": "code",
   "execution_count": null,
   "metadata": {
    "ExecuteTime": {
     "end_time": "2018-07-31T14:24:52.267306Z",
     "start_time": "2018-07-31T14:24:51.461480Z"
    }
   },
   "outputs": [],
   "source": [
    "mbs = client.get_members(cube,'Date','Year')\n",
    "print(mbs)"
   ]
  },
  {
   "cell_type": "code",
   "execution_count": null,
   "metadata": {
    "ExecuteTime": {
     "end_time": "2018-07-31T14:24:53.086199Z",
     "start_time": "2018-07-31T14:24:52.269387Z"
    }
   },
   "outputs": [],
   "source": [
    "ms = client.get_measures(cube)\n",
    "print(ms)"
   ]
  },
  {
   "cell_type": "code",
   "execution_count": null,
   "metadata": {
    "ExecuteTime": {
     "end_time": "2018-07-31T14:24:54.724867Z",
     "start_time": "2018-07-31T14:24:53.087842Z"
    }
   },
   "outputs": [],
   "source": [
    "query = client.get(\n",
    "    \"psu\", \n",
    "    {\"drilldowns\": [\n",
    "            [\"Date\",\"Year\"],\n",
    "            [\"Sex\",\"Sex\"]\n",
    "        ],\n",
    "        \"measures\": [\"PSU Average\"],\n",
    "        \"cuts\": [{\n",
    "            \"drilldown\":[\"Date\",\"Year\"],\n",
    "            \"values\": np.arange(2004,2017)\n",
    "            }]\n",
    "    }\n",
    ")"
   ]
  },
  {
   "cell_type": "code",
   "execution_count": null,
   "metadata": {
    "ExecuteTime": {
     "end_time": "2018-07-31T14:24:54.754887Z",
     "start_time": "2018-07-31T14:24:54.726860Z"
    }
   },
   "outputs": [],
   "source": [
    "# Importación y limpieza simple\n",
    "data = pd.DataFrame(query['data'])\n",
    "data = data.replace('No data', np.NaN)\n",
    "data = data.dropna()\n",
    "\n",
    "drop_cols = data.columns[:2]"
   ]
  },
  {
   "cell_type": "code",
   "execution_count": null,
   "metadata": {
    "ExecuteTime": {
     "end_time": "2018-07-31T14:24:54.771270Z",
     "start_time": "2018-07-31T14:24:54.757082Z"
    }
   },
   "outputs": [],
   "source": [
    "data = data.drop(drop_cols, axis=1).reset_index()\n",
    "data.drop('index', axis=1, inplace=True)"
   ]
  },
  {
   "cell_type": "code",
   "execution_count": null,
   "metadata": {
    "ExecuteTime": {
     "end_time": "2018-07-31T14:24:54.802317Z",
     "start_time": "2018-07-31T14:24:54.773789Z"
    }
   },
   "outputs": [],
   "source": [
    "data.head(10)"
   ]
  },
  {
   "cell_type": "code",
   "execution_count": null,
   "metadata": {
    "ExecuteTime": {
     "end_time": "2018-07-31T14:26:02.556023Z",
     "start_time": "2018-07-31T14:26:02.549648Z"
    }
   },
   "outputs": [],
   "source": [
    "male = data[data.Sex == 'Male']\n",
    "female = data[data.Sex == 'Female']\n",
    "\n",
    "male.index = male.Year\n",
    "female.index = female.Year"
   ]
  },
  {
   "cell_type": "code",
   "execution_count": null,
   "metadata": {
    "ExecuteTime": {
     "end_time": "2018-07-31T14:26:05.524979Z",
     "start_time": "2018-07-31T14:26:05.511381Z"
    }
   },
   "outputs": [],
   "source": [
    "male"
   ]
  },
  {
   "cell_type": "markdown",
   "metadata": {},
   "source": [
    "Dentro del DataFrame generado se procederá a comparar la evolución de los puntajes promedio PSU para mujeres y hombres, para ello se genera una figura:"
   ]
  },
  {
   "cell_type": "code",
   "execution_count": null,
   "metadata": {
    "ExecuteTime": {
     "end_time": "2018-07-31T14:26:07.932589Z",
     "start_time": "2018-07-31T14:26:07.866417Z"
    }
   },
   "outputs": [],
   "source": [
    "fig = plt.figure()\n",
    "ax = fig.add_subplot(1,1,1)\n",
    "\n",
    "years = np.arange(2004,2017)\n",
    "\n",
    "female = data[data.Sex == 'Female']\n",
    "female.index = years\n",
    "\n",
    "male   = data[data.Sex == 'Male']\n",
    "male.index = years\n",
    "\n",
    "ax.set_title(\"Data Chile PSU - Ejemplo\")\n",
    "ax.plot(years, female['PSU Average'],label='Promedio Mujeres',marker='o')\n",
    "ax.plot(years, male['PSU Average'], label='Promedio Hombres',marker='o')\n",
    "#ax.set_ylim((0,1000))"
   ]
  },
  {
   "cell_type": "markdown",
   "metadata": {},
   "source": [
    "En tal figura se agrega una anotación para los años 2004 y 2012:"
   ]
  },
  {
   "cell_type": "code",
   "execution_count": null,
   "metadata": {
    "ExecuteTime": {
     "end_time": "2018-07-31T14:26:18.611656Z",
     "start_time": "2018-07-31T14:26:18.590234Z"
    }
   },
   "outputs": [],
   "source": [
    "ax.set_xticks([2004, 2008,2012,2016])\n",
    "\n",
    "anotaciones = [\n",
    "    (2004,'Inicio'),\n",
    "    (2012,'Fenomeno extraño')\n",
    "]\n",
    "\n",
    "\n",
    "for Y,L in anotaciones:\n",
    "    ax.annotate(L, xy  = (Y, female.loc[Y]['PSU Average']+1), \n",
    "                xytext = (Y, female.loc[Y]['PSU Average']+7),\n",
    "                arrowprops={\n",
    "                            'facecolor':'black', 'headwidth':4,\n",
    "                            'width':2, 'headlength':4\n",
    "                            },\n",
    "                horizontalalignment = 'left',\n",
    "                verticalalignment='top'\n",
    "               )\n",
    "    \n",
    "ax.annotate(' ', xy  = (2012, male.loc[2012]['PSU Average']-1), \n",
    "            xytext = (2012, male.loc[2012]['PSU Average']-5.3),\n",
    "            arrowprops={\n",
    "                        'facecolor':'black', 'headwidth':4,\n",
    "                        'width':2, 'headlength':4\n",
    "                        },\n",
    "            horizontalalignment = 'left',\n",
    "            verticalalignment='top'\n",
    "           )\n",
    "\n",
    "ax.legend(loc=(0.1,0.5))"
   ]
  },
  {
   "cell_type": "markdown",
   "metadata": {},
   "source": [
    "**Ejercicio**\n",
    "\n",
    "* Inserte un flecha desde el gráfico superior hacia la palabra \"inicio\" (use como referencia la doble flecha dibujada en el plot)."
   ]
  },
  {
   "cell_type": "markdown",
   "metadata": {},
   "source": [
    "Además de añadir anotaciones, es posible agregar figuras, las figuras principales se denominan `patches`, alguno de estos son los rectángulos y círculos, en la documentación de `matplotlib.patches` se hace una recopilación de estos. A continuación se muestra un ejemplo:"
   ]
  },
  {
   "cell_type": "markdown",
   "metadata": {},
   "source": [
    "## Guardado de figuras\n",
    "\n",
    "Es posible almacenar en el disco las figuras producidas, para ello, el método `plt.savefig` es usado. Por ejemplo, para almacenar una figura en formato `SVG` con el nombre `figura_text` se puede hacer con comando:\n",
    "```python\n",
    "plt.savefig('.../ruta/figura_test.SVG')\n",
    "\n",
    "```\n",
    "\n",
    "El tipo de archivo se infiere automáticamente de la extensión usada, los tipos de archivos soportados incluyen `png` y `pdf` entre otros. Algunas opciones de bastante utilidad son `dpi` y `bbox_inches`, el siguiente comando permite guardar un figura en formato `png` con 400 dpi y con el mínimo espacio alrededor del gráfico:\n",
    "\n",
    "```python\n",
    "plt.savefig('figpath.png', dpi=400, bbox_inches='tight')\n",
    "```"
   ]
  },
  {
   "cell_type": "markdown",
   "metadata": {},
   "source": [
    "## Configuración de matplotlib\n",
    "\n",
    "El paquete descrito hasta acá viene preconfigurado con esquemas de colores. Todos estos esquemas \"por defecto\" pueden ser personalizados extendiendo los parámetros globales de la librería. El método `rc`  permite hacer esto, por ejemplo, para cambiar el tamaño de las figura a 10x10 se puede ingresar:\n",
    "\n",
    "```python\n",
    "plt.rc('figure', figsize=(10,10))\n",
    "```\n",
    "\n",
    "El primer argumento de `rc` es el componente que se desea personalizar, en este caso es `figure`, se puede acceder también a `axes`, `xtick`, `ytick`, `grid`, `legend` entre otros. Luego se ingresan los parámetros que se deseen modificar, esto puede ser hecho a través de diccionarios:\n",
    "\n",
    "```python\n",
    "opt = {'family' : 'monospace',\n",
    "       'weight' : 'bold',\n",
    "       'size' : 'small'}\n",
    "plt.rc('font', **opt)\n",
    "```"
   ]
  },
  {
   "cell_type": "markdown",
   "metadata": {},
   "source": [
    "# Visualizaciones con Pandas y seaborn<a id=\"pdSns\"></a>\n",
    "\n",
    "matplotlib se puede interpretar como una herramienta de \"bajo nivel\" para la producción de visualizaciones, es decir, esta se generan a partir de sus componentes básicos.\n",
    "\n",
    "En Pandas por otra parte, los DataFrames pueden tener múltiples columnas además de etiquetas para las filas. Este paquete posee métodos de visualización incluidos, pensados para simplificar el proceso de producción a partir de Series y DataFrames. \n",
    "\n",
    "Otra librería basada en tal principio es `seaborn`, esta corresponde a una librería de gráficos estadísticos construida sobre matplotlib. A continuación se estudian las posibilidades de visualización tanto en pandas como en seaborn."
   ]
  },
  {
   "cell_type": "markdown",
   "metadata": {},
   "source": [
    "## Gráficos de línea\n",
    "\n",
    "Las Series y Dataframes poseen atributo `plot`, este permite hacer gráficas simples, por defecto, este atributo genera gráficos de línea interpolados:"
   ]
  },
  {
   "cell_type": "code",
   "execution_count": null,
   "metadata": {
    "ExecuteTime": {
     "end_time": "2018-07-31T14:26:25.902347Z",
     "start_time": "2018-07-31T14:26:25.817906Z"
    }
   },
   "outputs": [],
   "source": [
    "fig = plt.figure()\n",
    "s = female['PSU Average']\n",
    "s.plot()"
   ]
  },
  {
   "cell_type": "markdown",
   "metadata": {},
   "source": [
    "Los indices del objeto serie son interpretados como el eje `x`, esto se puede evitar con `use_index = False`. El los puntos de interés en `x` o \"ticks\" y sus limites se pueden ajustar por medio de `xticks` y `xlim`, de la misma manera se puede ajustar el eje `y`. Las opciones disponibles se pueden acceder en la documentación del `plot`.\n",
    "\n",
    "Por lo general, lo métodos de visualización en pandas permiten un parámetro `ax` el cual puede ser un subplot de matplotlib. \n",
    "\n",
    "El método `plot` en DataFrames genera un plot distinto para cada visualización produciendo una \"linea\" distinta por columna además de generar una leyenda de manera automática."
   ]
  },
  {
   "cell_type": "code",
   "execution_count": null,
   "metadata": {
    "ExecuteTime": {
     "end_time": "2018-07-31T14:26:28.912559Z",
     "start_time": "2018-07-31T14:26:28.901494Z"
    }
   },
   "outputs": [],
   "source": [
    "H = data.pivot_table(index=['Year', 'Sex']).unstack(1)\n",
    "H.columns = ['female', 'male']\n",
    "\n",
    "Data = H"
   ]
  },
  {
   "cell_type": "code",
   "execution_count": null,
   "metadata": {
    "ExecuteTime": {
     "end_time": "2018-07-31T14:26:37.561630Z",
     "start_time": "2018-07-31T14:26:37.482151Z"
    }
   },
   "outputs": [],
   "source": [
    "Data.plot()"
   ]
  },
  {
   "cell_type": "markdown",
   "metadata": {},
   "source": [
    "Por su parte, el método `plot` de un DataFrame, posee opciones diferentes a las de una Serie, siendo `subplots` una de estas:"
   ]
  },
  {
   "cell_type": "code",
   "execution_count": null,
   "metadata": {
    "ExecuteTime": {
     "end_time": "2018-07-31T14:26:46.696966Z",
     "start_time": "2018-07-31T14:26:46.578257Z"
    }
   },
   "outputs": [],
   "source": [
    "Data.plot(subplots=True)"
   ]
  },
  {
   "cell_type": "markdown",
   "metadata": {},
   "source": [
    "## Gráficos de barra\n",
    "\n",
    "La función `plot.bar()` y `plot.barh()` generan gráficos de barra verticales y horizontales respectivamente. En esta caso, los índices ya sean de la Serie o DataFrame serán utilizados como el eje `x` (bar) o `y` (barh)."
   ]
  },
  {
   "cell_type": "code",
   "execution_count": null,
   "metadata": {
    "ExecuteTime": {
     "end_time": "2018-07-31T14:26:49.456025Z",
     "start_time": "2018-07-31T14:26:49.299196Z"
    }
   },
   "outputs": [],
   "source": [
    "fig, axes = plt.subplots(2, 1)\n",
    "data = pd.Series(np.random.rand(16), index=list('abcdefghijklmnop'))\n",
    "\n",
    "data.plot.bar(ax=axes[0], color='k', alpha=0.7)\n",
    "data.plot.barh(ax=axes[1], color='k', alpha=0.7)"
   ]
  },
  {
   "cell_type": "markdown",
   "metadata": {},
   "source": [
    "Las opciones `color = 'k'` y `alpha=0.7` proporcionan tanto el color como la transparencia de las barras."
   ]
  },
  {
   "cell_type": "code",
   "execution_count": null,
   "metadata": {
    "ExecuteTime": {
     "end_time": "2018-07-31T14:26:51.486067Z",
     "start_time": "2018-07-31T14:26:51.398377Z"
    }
   },
   "outputs": [],
   "source": [
    "df = pd.DataFrame(np.random.rand(6, 4),\n",
    "\n",
    "index=['one', 'two', 'three', 'four', 'five', 'six'],\n",
    "columns=pd.Index(['A', 'B', 'C', 'D'], name='Titulo - personalizado'))\n",
    "\n",
    "df.plot.bar()"
   ]
  },
  {
   "cell_type": "markdown",
   "metadata": {},
   "source": [
    "Para crear gráficos de barra superpuestos a partir de un DataFrame la opción `stacked=True` lo permite de manera sencilla:"
   ]
  },
  {
   "cell_type": "code",
   "execution_count": null,
   "metadata": {
    "ExecuteTime": {
     "end_time": "2018-07-31T14:26:52.748129Z",
     "start_time": "2018-07-31T14:26:52.645121Z"
    }
   },
   "outputs": [],
   "source": [
    "df.plot.barh(stacked=True, alpha=0.9)"
   ]
  },
  {
   "cell_type": "markdown",
   "metadata": {},
   "source": [
    "**Ejercicio** \n",
    "\n",
    "* Genere un gráfico de barras horizontal, donde se muestren las frecuencias para los puntajes promedio PSU obtenidos por las mujeres separados en 5 grupos (o bins). (Hint: `value_counts`)"
   ]
  },
  {
   "cell_type": "markdown",
   "metadata": {},
   "source": [
    "Para hacer visualizaciones que requieran un agrupamiento previo exhaustivo de los datos, es posible usar `seaborn`:"
   ]
  },
  {
   "cell_type": "code",
   "execution_count": null,
   "metadata": {
    "ExecuteTime": {
     "end_time": "2018-07-31T14:26:55.347711Z",
     "start_time": "2018-07-31T14:26:54.685442Z"
    }
   },
   "outputs": [],
   "source": [
    "import seaborn as sns\n",
    "fig=plt.figure()\n",
    "\n",
    "sns.barplot(data=Data)"
   ]
  },
  {
   "cell_type": "markdown",
   "metadata": {},
   "source": [
    "El argumento de barplot corresponde a un DataFrame u observaciones de un base de datos en arreglos `x` e `y`. En este caso, el gráfico corresponde a los valores promedio de los puntajes PSU tanto de hombres como de mujeres, además agrega un intervalo de confianza del 95% al valor (lineas negras)."
   ]
  },
  {
   "cell_type": "markdown",
   "metadata": {},
   "source": [
    "Los barplots de seabron tiene además una opción denominada `hue` la cual permite separar a través de una nueva variable categórica. El siguiente ejemplo hace uso de esta opción utilizando los datos de efectividad en la educación básica obtenidos de la API DataChile."
   ]
  },
  {
   "cell_type": "code",
   "execution_count": null,
   "metadata": {
    "ExecuteTime": {
     "end_time": "2018-07-31T14:26:59.242684Z",
     "start_time": "2018-07-31T14:26:59.157426Z"
    }
   },
   "outputs": [],
   "source": [
    "# https://es.datachile.io/geo/chile#education \n",
    "# Efectividad en educación:\n",
    "\n",
    "import pandas as pd\n",
    "df_efect = pd.read_csv('./datos/C3/efectividad.csv')\n",
    "\n",
    "# Limpieza inicial\n",
    "\n",
    "df_efect.replace('Educación especial', np.NaN)\n",
    "df_efect.dropna(inplace=True)"
   ]
  },
  {
   "cell_type": "code",
   "execution_count": null,
   "metadata": {
    "ExecuteTime": {
     "end_time": "2018-07-31T14:27:01.169696Z",
     "start_time": "2018-07-31T14:27:01.157018Z"
    }
   },
   "outputs": [],
   "source": [
    "data_1 = pd.DataFrame(data=df_efect, columns=['Stage 1a','Avg efectiveness'])\n",
    "data_1['bin'] = pd.cut(data_1['Avg efectiveness'], bins=5)"
   ]
  },
  {
   "cell_type": "code",
   "execution_count": null,
   "metadata": {
    "ExecuteTime": {
     "end_time": "2018-07-31T14:27:02.851608Z",
     "start_time": "2018-07-31T14:27:02.465271Z"
    },
    "scrolled": true
   },
   "outputs": [],
   "source": [
    "fig = plt.figure()\n",
    "sns.barplot(x=data_1.bin, y=data_1['Avg efectiveness'], hue=data_1['Stage 1a'])"
   ]
  },
  {
   "cell_type": "markdown",
   "metadata": {},
   "source": [
    "Es posible cambiar el estilo de los gráficos usando el método `set` de seaborn:"
   ]
  },
  {
   "cell_type": "code",
   "execution_count": null,
   "metadata": {
    "ExecuteTime": {
     "end_time": "2018-07-31T14:27:05.471402Z",
     "start_time": "2018-07-31T14:27:05.462918Z"
    }
   },
   "outputs": [],
   "source": [
    "sns.set(style='whitegrid')"
   ]
  },
  {
   "cell_type": "markdown",
   "metadata": {},
   "source": [
    "## Histogramas y gráficos de densidad\n",
    "\n",
    "Un histograma es un tipo de gráfico de barras que proporciona un valor discretizado de las frecuencias. Para esto, se discretizan los valores presentes en la base de datos para luego ser separados en \"bins\", posteriormente se gráfica el número de veces que un bin es \"poblado\" por algún elemento de la base."
   ]
  },
  {
   "cell_type": "code",
   "execution_count": null,
   "metadata": {
    "ExecuteTime": {
     "end_time": "2018-07-31T14:27:06.560273Z",
     "start_time": "2018-07-31T14:27:06.451173Z"
    }
   },
   "outputs": [],
   "source": [
    "data_1.plot.hist(bins=50)"
   ]
  },
  {
   "cell_type": "markdown",
   "metadata": {},
   "source": [
    "Un tipo relacionado de datos son los gráficos de densidad, estos calculan una estimación de la distribución de probabilidad que pudo haber generado los datos. El procedimiento usual para esto, es aproximar tal distribución por medio de una mezcla de \"kernels\", es decir, distribuciones más simples. Por tanto, los gráficos de densidad son conocido con el nombre de estimadores de densidad por kernels o KDE por sus siglas en ingles. Usando la función `plot.kde`  se puede obtener un KDE usando una mezcla de distribuciones normales:"
   ]
  },
  {
   "cell_type": "code",
   "execution_count": null,
   "metadata": {
    "ExecuteTime": {
     "end_time": "2018-07-31T14:27:09.765285Z",
     "start_time": "2018-07-31T14:27:09.356909Z"
    }
   },
   "outputs": [],
   "source": [
    "data_1.plot.density()"
   ]
  },
  {
   "cell_type": "markdown",
   "metadata": {},
   "source": [
    "Seaborn produce histogramas y gráficos de densidad de manera aún más sencilla a través del método `distplot`, el cual genera tanto un histograma como un KDE continuo (de manera simultanea). A modo de ejemplo, se consideran dos distribuciones conocidas:"
   ]
  },
  {
   "cell_type": "code",
   "execution_count": null,
   "metadata": {
    "ExecuteTime": {
     "end_time": "2018-07-31T14:27:11.910061Z",
     "start_time": "2018-07-31T14:27:11.901253Z"
    }
   },
   "outputs": [],
   "source": [
    "comp1 = np.random.normal(0, 1, size=200)\n",
    "comp2 = np.random.normal(10, 2, size=200)\n",
    "values = pd.Series(np.concatenate([comp1, comp2]))"
   ]
  },
  {
   "cell_type": "code",
   "execution_count": null,
   "metadata": {
    "ExecuteTime": {
     "end_time": "2018-07-31T14:27:12.702176Z",
     "start_time": "2018-07-31T14:27:12.569902Z"
    }
   },
   "outputs": [],
   "source": [
    "fig = plt.figure()\n",
    "sns.distplot(values, bins=100, color='k')"
   ]
  },
  {
   "cell_type": "markdown",
   "metadata": {},
   "source": [
    "## Gráficos de dispersión\n",
    "\n",
    "Los gráficos compuestos de \"puntos\" o gráficos de dispersión puede ser una manera útil de examinar la relación entre datos 2-dimensionales. Por ejemplo, en los datos analizados en la `clase 1` se hace uso de tal ventaja:\n",
    "\n",
    "**Ejercicio**\n",
    "\n",
    "* Cargue los datos de la clase 1 './datos/C1/SCI_HDI.npy' en un DataFrame de pandas con columnas `SCI` y `HDI` respectivamente. Utilice la función `sns.regplot()` sobre estos datos."
   ]
  },
  {
   "cell_type": "code",
   "execution_count": null,
   "metadata": {
    "ExecuteTime": {
     "end_time": "2018-07-31T14:27:20.353592Z",
     "start_time": "2018-07-31T14:27:20.162215Z"
    }
   },
   "outputs": [],
   "source": [
    "fig = plt.figure()\n",
    "sns.regplot('SCI', 'HDI',data=datos)"
   ]
  },
  {
   "cell_type": "markdown",
   "metadata": {},
   "source": [
    "Como pudo haber observado, tal función ajusta una regresión lineal sobre un gráfico de dispersión."
   ]
  },
  {
   "cell_type": "markdown",
   "metadata": {},
   "source": [
    "Otra herramienta importante en análisis de datos es la opción de analizar las relaciones entre las distintas variables que intervienen en el fenómeno que se estudia. Esto se puede hacer mediante el estudio de *gráficos de pares* o una **matriz de gráficos de dispersión**. Es posible generar gráficos de con tales características desde cero usando matplotlib, sin embargo, seaborn posee la función **pairplot** que soporta histogramas y KDE's de cada variable en la diagonal de la *matriz*."
   ]
  },
  {
   "cell_type": "code",
   "execution_count": null,
   "metadata": {
    "ExecuteTime": {
     "end_time": "2018-07-31T14:27:23.307425Z",
     "start_time": "2018-07-31T14:27:22.968788Z"
    }
   },
   "outputs": [],
   "source": [
    "sns.pairplot(datos, diag_kind='kde')"
   ]
  },
  {
   "cell_type": "markdown",
   "metadata": {},
   "source": [
    "Adicionalmente, es posible ingresar argumentos en forma de diccionario a través de la opción `plots_kws`, por ejemplo, si se quisiera agregar cierta transparencia: \n",
    "```python\n",
    "sns.pairplot(arg_1, arg_2,...,plot_kws={'alpha': 0.2})\n",
    "```"
   ]
  },
  {
   "cell_type": "markdown",
   "metadata": {},
   "source": [
    "## Grillas y datos categóricos\n",
    "\n",
    "Una manera de visualizar datos con múltiples variables categóricas es usando un \"grilla de facetas\". En seabron existe la función `factorplot` que simplifica la tarea:"
   ]
  },
  {
   "cell_type": "code",
   "execution_count": null,
   "metadata": {
    "ExecuteTime": {
     "end_time": "2018-07-31T14:27:26.296803Z",
     "start_time": "2018-07-31T14:27:25.576064Z"
    }
   },
   "outputs": [],
   "source": [
    "# Se carga la base de ejemplo \"tips\" presente como\n",
    "# dataset de ejemplo en seaborn.\n",
    "\n",
    "tips = sns.load_dataset(\"tips\")\n",
    "tips['tip_pct'] = tips['tip'] / (tips['total_bill'] - tips['tip'])\n",
    "\n",
    "sns.factorplot(x='day', y='tip_pct', hue='time', col='smoker',\n",
    "               kind='bar', data=tips[tips.tip_pct < 1])"
   ]
  },
  {
   "cell_type": "markdown",
   "metadata": {},
   "source": [
    "En vez de agrupar por `time` usando colores distintos colores de barras, se puede expandir una \"grilla de facetas\" agregando una fila por valor de `time`:"
   ]
  },
  {
   "cell_type": "code",
   "execution_count": null,
   "metadata": {
    "ExecuteTime": {
     "end_time": "2018-07-31T14:27:29.561251Z",
     "start_time": "2018-07-31T14:27:29.069688Z"
    }
   },
   "outputs": [],
   "source": [
    "sns.factorplot(x='day', y='tip_pct', row='time', col='smoker',\n",
    "                  kind='bar', data=tips[tips.tip_pct < 1])"
   ]
  },
  {
   "cell_type": "markdown",
   "metadata": {},
   "source": [
    "`factorplot` soporta también otros tipos de gráficos que pueden ser útiles dependiendo de la que se desee mostrar. Por ejemplo los gráficos de caja:"
   ]
  },
  {
   "cell_type": "code",
   "execution_count": null,
   "metadata": {
    "ExecuteTime": {
     "end_time": "2018-07-31T14:27:31.875953Z",
     "start_time": "2018-07-31T14:27:31.719959Z"
    }
   },
   "outputs": [],
   "source": [
    "sns.factorplot(x='tip_pct', y='day', kind='box',\n",
    "               data=tips[tips.tip_pct < 0.5])"
   ]
  },
  {
   "cell_type": "markdown",
   "metadata": {},
   "source": [
    "**Ejercicio**\n",
    "\n",
    "* Estudie el tipo de gráfico conocido domo 'violin'."
   ]
  },
  {
   "cell_type": "markdown",
   "metadata": {},
   "source": [
    "## Conclusión<a id=\"conclu\"></a> \n",
    "\n",
    "matplotlib se puede interpretar como una librería de \"bajo nivel\" en la producción de visualizaciones, por tal motivo proporciona una gran cantidad de opciones de personalización. Por otra parte, herramientas de más alto nivel, como las proporcionadas por Pandas y seaborn permiten obtener gráficos altamente expresivos y de gran calidad de una manera más sencilla, pagando como costo cierta pérdida en la personalización. Debido a la alta interacción entre estas librerías, se recomienda conocer las funciones y atributos basales presentes en matplotlib y usarlas en conjunto a \"interfaces\" de más alto nivel como seaborn para agregar expresividad a las visualizaciones. Finalmente, estas no son las únicas herramientas construidas sobre matplotlib, se sugiere como tema de estudio, el investigar las herramientas de visualizaciones dinámicas conocidas como bokeh y plotly."
   ]
  }
 ],
 "metadata": {
  "kernelspec": {
   "display_name": "Python 3",
   "language": "python",
   "name": "python3"
  },
  "language_info": {
   "codemirror_mode": {
    "name": "ipython",
    "version": 3
   },
   "file_extension": ".py",
   "mimetype": "text/x-python",
   "name": "python",
   "nbconvert_exporter": "python",
   "pygments_lexer": "ipython3",
   "version": "3.6.4"
  },
  "varInspector": {
   "cols": {
    "lenName": 16,
    "lenType": 16,
    "lenVar": 40
   },
   "kernels_config": {
    "python": {
     "delete_cmd_postfix": "",
     "delete_cmd_prefix": "del ",
     "library": "var_list.py",
     "varRefreshCmd": "print(var_dic_list())"
    },
    "r": {
     "delete_cmd_postfix": ") ",
     "delete_cmd_prefix": "rm(",
     "library": "var_list.r",
     "varRefreshCmd": "cat(var_dic_list()) "
    }
   },
   "oldHeight": 123.18181799999999,
   "position": {
    "height": "40px",
    "left": "1344.62px",
    "right": "20px",
    "top": "142px",
    "width": "250px"
   },
   "types_to_exclude": [
    "module",
    "function",
    "builtin_function_or_method",
    "instance",
    "_Feature"
   ],
   "varInspector_section_display": "none",
   "window_display": true
  }
 },
 "nbformat": 4,
 "nbformat_minor": 2
}
