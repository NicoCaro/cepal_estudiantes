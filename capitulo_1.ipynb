{
 "cells": [
  {
   "cell_type": "markdown",
   "metadata": {},
   "source": [
    "# Contendidos\n",
    "\n",
    "1.  [Introducción](#intro)  \n",
    "2.  [Elementos Básicos de Python](#elementos)  \n",
    "3.  [Valores y Operadores](#valores)  \n",
    "    3.1 [Variables y manejo de números](#valoresNum)  \n",
    "    3.2 [Operadores lógicos](#opLog)  \n",
    "    3.3 [Manejo de texto](#strings)\n",
    "4. [Estructuras de datos](#dataStruc)\n",
    "5. [Control de flujo](#flow)\n",
    "6. [Funciones](#funciones)\n",
    "7. [Modulos](#modulos)  \n",
    "    7.1 [Numpy](#numpy)\n",
    "1. [Por qué elegir Python?](#opcional)"
   ]
  },
  {
   "cell_type": "markdown",
   "metadata": {},
   "source": [
    "\n",
    "# Introducción <a id=\"intro\"></a>\n",
    "\n",
    "Python es un lenguaje de programación multipropósito, diseñado para \n",
    "preservar legibilidad y simpleza sintáctica. Sus características y \n",
    "[principios](https://en.wikipedia.org/wiki/Zen_of_Python) lo convierten\n",
    "en un lenguaje poderoso y fácil de aprender.\n",
    "\n",
    "Este lenguaje presenta hoy en día un amplio soporte por parte de la comunidad de ciencia de datos / aprendizaje automático, dándose como resultado, la creación de un gran ecosistema compuesto por librerías abiertas, desarrolladas por terceros (*third party packages*), el cual crece de manera activa y provee las herramientas necesarias para la investigación en análisis de datos. \n",
    "\n",
    "Las librerías fundamentales para el desarrollo de ciencia de datos en Python provienen de tal contexto y corresponden a:\n",
    "\n",
    "- Numpy: Manipulación de datos homogéneos basados en arreglos.\n",
    "- Pandas: Manipulación de datos heterogéneos y/o etiquetados.\n",
    "- SciPy: Rutinas básicas de computación científica.\n",
    "- Matplotilib: Visualizaciones de alta calidad.\n",
    "- Scikit-Learn: Rutinas orientadas aprendizaje automático.\n",
    "- IPython/Jupyter: Ejecución interactiva y distribución de código."
   ]
  },
  {
   "cell_type": "markdown",
   "metadata": {},
   "source": [
    "# Elementos Básicos de Python <a id=\"elementos\"></a>\n",
    "\n",
    "Es posible trabajar con Python desde la *consola* o *terminal*, desde una interfaz de usuario dedicada (como *spyder* o *pycharm*) o desde **notebooks**. \n",
    "\n",
    "Un notebook (o Jupyter-notebook) es un documento basado en navegador, pensado para programar de manera interactiva y de fácil difusión. Su estructura consiste en una lista ordenada de celdas configuradas para soportar código (Python, R, Julia, Haskell ...), texto, formulas matemáticas (latex) y contenido multimedia (imágenes, videos, sonido, etc...). \n",
    "\n",
    "Este documento es un notebook, su extensión es .ipynb y esta compuesto por celdas. Para editar una celda, basta con hacer doble click sobre ella. Para ejecutar su contenido se utiliza el comando `Ctrl+Enter`. En el proceso de ejecución, Python procederá de manera secuencial e imprimirá cualquier resultado, gráfico o error bajo la celda. Para ejecutar una celda e inmediatamente pasar a la siguiente es posible usar `Shift+Enter`.\n",
    "\n",
    "**Ejercicio**\n",
    "\n",
    "1. Agregue una celda inferior a esta con texto de su preferencia. (markdown)\n",
    "2. Agregue una segunda celda inferior a la anterior con el siguiente código: \n",
    "\n",
    "```python\n",
    "x = 'Hola CEPAL :)'\n",
    "print(x)\n",
    "```"
   ]
  },
  {
   "cell_type": "markdown",
   "metadata": {},
   "source": [
    "## Valores y operadores <a id=\"valores\"></a>\n",
    "\n",
    "Python permite trabajar de manera nativa con expresiones matemáticas, texto y estructuras de datos tales como listas y diccionarios. \n",
    "\n",
    "### Variables y manejo de números\n",
    "<a id=\"valoresNum\"></a>\n",
    "\n",
    "Un aspecto esencial en programación, es el manejo de variables. La asignación de variables en Python utiliza la siguiente sintaxis:"
   ]
  },
  {
   "cell_type": "code",
   "execution_count": null,
   "metadata": {
    "ExecuteTime": {
     "end_time": "2018-06-23T18:40:25.112114Z",
     "start_time": "2018-06-23T18:40:25.107503Z"
    }
   },
   "outputs": [],
   "source": [
    "x = 10\n",
    "y = 5"
   ]
  },
  {
   "cell_type": "markdown",
   "metadata": {},
   "source": [
    "Donde se ha creado la variable de nombre `x` y se le asigna el valor `10`, análogamente se define la variable `y`. De manera natural, es posible operar sobre los valores de estas variables:"
   ]
  },
  {
   "cell_type": "code",
   "execution_count": null,
   "metadata": {
    "ExecuteTime": {
     "end_time": "2018-06-23T18:40:26.870465Z",
     "start_time": "2018-06-23T18:40:26.864274Z"
    }
   },
   "outputs": [],
   "source": [
    "z_1 = x*y\n",
    "z_2 = x + y\n",
    "print(z_1)\n",
    "print(z_2)"
   ]
  },
  {
   "cell_type": "markdown",
   "metadata": {},
   "source": [
    "En la celda anterior obtenemos el valor de las variables `z_1` y `z_2` dadas `x` e `y`. \n",
    "\n",
    "Se hace explicito el valor de estas variables imprimiéndolas en pantalla con la función `print()`.\n",
    "\n",
    "También se pueden hacer operaciones mas especificas, como la división entera `//` (donde se descarta la fracción), la exponenciación `**` y el módulo `%` (resto de una división)."
   ]
  },
  {
   "cell_type": "code",
   "execution_count": null,
   "metadata": {
    "ExecuteTime": {
     "end_time": "2018-06-22T21:46:20.853633Z",
     "start_time": "2018-06-22T21:46:20.849088Z"
    }
   },
   "outputs": [],
   "source": [
    "print(7 // 3)\n",
    "print(9 ** 2)\n",
    "print(17 % 4)"
   ]
  },
  {
   "cell_type": "markdown",
   "metadata": {},
   "source": [
    "### Funciones Numéricas\n",
    "\n",
    "**Ejercicios**\n",
    "\n",
    "1. Inserte una celda de código y escriba `pow`, luego presione `Shift+Tab`. Utilice la información mostrada para calcular la raíz cuadrada de `10`.\n",
    "\n",
    "2. Utilice las funciones `int` y `round` sobre el número `3.5`."
   ]
  },
  {
   "cell_type": "markdown",
   "metadata": {},
   "source": [
    "### Operadores lógicos <a id=\"opLog\"></a>\n",
    "\n",
    "También es posible el manejo de valores booleanos, que pueden ser verdaderos (`True`) o falsos (`False`).\n",
    "Pueden ser compuestos con los operadores lógicos `and`, `or` y `not`, que corresponden a \"y\", \"o\" y \"negación\".\n",
    "\n",
    "Notar que la primera letra de `True` y `False` debe ser mayúscula."
   ]
  },
  {
   "cell_type": "code",
   "execution_count": null,
   "metadata": {
    "ExecuteTime": {
     "end_time": "2018-06-22T22:31:00.056344Z",
     "start_time": "2018-06-22T22:31:00.052149Z"
    }
   },
   "outputs": [],
   "source": [
    "print(not False and True)\n",
    "print(not True or False)\n",
    "print(True or (not True and ((True and False) or (True and not False))))"
   ]
  },
  {
   "cell_type": "markdown",
   "metadata": {},
   "source": [
    "Estos operadores booleanos serán útiles a la hora de comparar valores. Existen varios comparadores: para indicar igualdad `==` , desigualdad `!=`, menor que `<`, mayor que `>`, menor o igual que `<=` y mayor o igual que `>=`."
   ]
  },
  {
   "cell_type": "code",
   "execution_count": null,
   "metadata": {
    "ExecuteTime": {
     "end_time": "2018-06-22T23:03:22.184120Z",
     "start_time": "2018-06-22T23:03:22.180820Z"
    }
   },
   "outputs": [],
   "source": [
    "a = (1/7 <= 0.2)\n",
    "b = 1 + 7 * (8 - 4) / 3\n",
    "H = (b > 11)\n",
    "\n",
    "print('Valores a,H,b :',a,H,b, '\\n')\n",
    "print('Resultado a \"y\" H :', a and H, '\\n')"
   ]
  },
  {
   "cell_type": "markdown",
   "metadata": {},
   "source": [
    "Observación: \n",
    "* El operador `'\\n'` en `print()` indica un salto de linea.\n",
    "\n",
    "**Ejercicio**\n",
    "\n",
    "* Suponga que los ingresos monetarios de una población presentan valores entre 0 y 100 unidades. Dada una persona con ingreso P, muestre en pantalla si tal persona pertenece al tramo A, de ingresos inferiores a 30 unidades, B entre 31 y 70 unidades o C entre 71 y 100 unidades."
   ]
  },
  {
   "cell_type": "markdown",
   "metadata": {},
   "source": [
    "### Manejo de texto <a id=\"strings\"></a>\n",
    "\n",
    "Para trabajar con fragmentos de texto, rodearemos el texto entre comillas simples `'` o dobles `\"`. No importa cual de las dos, mientras ambas comillas sean del mismo tipo. Este tipo de valor se conoce como \"string\" por su nombre en inglés."
   ]
  },
  {
   "cell_type": "code",
   "execution_count": null,
   "metadata": {
    "ExecuteTime": {
     "end_time": "2018-06-22T23:06:05.667354Z",
     "start_time": "2018-06-22T23:06:05.663036Z"
    }
   },
   "outputs": [],
   "source": [
    "print(\"¡Hola\")\n",
    "print('Mundo!')"
   ]
  },
  {
   "cell_type": "markdown",
   "metadata": {},
   "source": [
    "Podemos \"sumar\" strings con `+` para obtener su concatenación. Igual que con los números podemos guardar valores intermedios en variables"
   ]
  },
  {
   "cell_type": "code",
   "execution_count": null,
   "metadata": {
    "ExecuteTime": {
     "end_time": "2018-06-22T23:06:06.893910Z",
     "start_time": "2018-06-22T23:06:06.891161Z"
    }
   },
   "outputs": [],
   "source": [
    "print(\"¡Hola \" + \"mundo!\")\n",
    "\n",
    "nombre = \"CEPAL\"\n",
    "print(\"¡Hola \" + nombre + \"!\")"
   ]
  },
  {
   "cell_type": "markdown",
   "metadata": {},
   "source": [
    "Podemos convertir valores numéricos en strings usando la transformación `str(número)`.\n",
    "\n",
    "La transformación `str()` también sirve para todo tipo de objetos en Python."
   ]
  },
  {
   "cell_type": "code",
   "execution_count": null,
   "metadata": {
    "ExecuteTime": {
     "end_time": "2018-06-22T23:06:08.787013Z",
     "start_time": "2018-06-22T23:06:08.782893Z"
    }
   },
   "outputs": [],
   "source": [
    "x = 2\n",
    "print(\"x = \" + str(x))"
   ]
  },
  {
   "cell_type": "markdown",
   "metadata": {},
   "source": [
    "Es posible añadir *comentarios* en un bloque de código. Un comentario corresponde a texto dentro del código, que es visible pero no se ejecuta. En Python, los comentarios se marcan con el signo `#`. Todo lo que viene después de este signo en una línea no afecta la ejecución del programa. El uso de comentarios es útil para indicar el significado de cierta sección del código o para quitar de la ejecución cierto tramo para buscar errores.\n",
    "\n",
    "La siguiente celda tiene un ejemplo de su uso."
   ]
  },
  {
   "cell_type": "code",
   "execution_count": null,
   "metadata": {
    "ExecuteTime": {
     "end_time": "2018-06-22T23:11:14.043577Z",
     "start_time": "2018-06-22T23:11:14.040136Z"
    }
   },
   "outputs": [],
   "source": [
    "# Comentario: visible pero no ejecutado.\n",
    "print('Celda comentada')"
   ]
  },
  {
   "cell_type": "markdown",
   "metadata": {},
   "source": [
    "Los tipos de dato en Python son considerados como objetos y por tanto poseen métodos asociados, en el caso de las variables tipo `str` el método `format` es de especial utilidad:"
   ]
  },
  {
   "cell_type": "code",
   "execution_count": null,
   "metadata": {
    "ExecuteTime": {
     "end_time": "2018-07-13T20:31:14.806189Z",
     "start_time": "2018-07-13T20:31:14.802169Z"
    }
   },
   "outputs": [],
   "source": [
    "'La suma de 2 + 2 es \"{}\" (modulo \"{}\") '.format(1,2)"
   ]
  },
  {
   "cell_type": "markdown",
   "metadata": {},
   "source": [
    "Este método busca todas las instancias de `{}` dentro de la variable `str` y los reemplaza por su argumento, en este caso 1 y 2."
   ]
  },
  {
   "cell_type": "markdown",
   "metadata": {},
   "source": [
    "## Estructuras de datos<a id=\"dataStruc\"></a> \n",
    "\n",
    "Python posee tipos de datos compuestos, usados para agrupar valores. El común es la lista, esta puede ser escrita como un arreglo de valores separados por coma (ítems) entre corchetes `[]`. Las listas pueden contener ítems de diferentes tipos, pero usualmente los ítems son del mismo tipo:"
   ]
  },
  {
   "cell_type": "code",
   "execution_count": null,
   "metadata": {
    "ExecuteTime": {
     "end_time": "2018-06-22T23:35:01.814724Z",
     "start_time": "2018-06-22T23:35:01.811691Z"
    }
   },
   "outputs": [],
   "source": [
    "a = [1, 2, 3]\n",
    "b = [4, 'auto']\n",
    "print(a)\n",
    "print(b)"
   ]
  },
  {
   "cell_type": "markdown",
   "metadata": {},
   "source": [
    "Es posible acceder a sus elementos con la sintaxis `variable[índice]`. En Python, los índices comienzan en cero."
   ]
  },
  {
   "cell_type": "code",
   "execution_count": null,
   "metadata": {
    "ExecuteTime": {
     "end_time": "2018-06-22T23:36:52.523184Z",
     "start_time": "2018-06-22T23:36:52.519740Z"
    }
   },
   "outputs": [],
   "source": [
    "a = [4, 6, 5]\n",
    "print(\"el primer elemento es \" + str(a[0]))\n",
    "print(\"el segundo elemento es \" + str(a[1]))\n",
    "print(\"el tercer elemento es \" + str(a[2]))"
   ]
  },
  {
   "cell_type": "markdown",
   "metadata": {},
   "source": [
    "El tamaño de la lista se obtiene usando `len()`. También sirve para strings."
   ]
  },
  {
   "cell_type": "code",
   "execution_count": null,
   "metadata": {
    "ExecuteTime": {
     "end_time": "2018-06-22T23:35:19.516275Z",
     "start_time": "2018-06-22T23:35:19.513608Z"
    }
   },
   "outputs": [],
   "source": [
    "print(len([3, 5, 4, 1]))\n",
    "print(len(\"Texto de prueba\"))"
   ]
  },
  {
   "cell_type": "markdown",
   "metadata": {},
   "source": [
    "Una practica habitual consisten en definir listas vacías como contenedores de valores futuros. Estos valores futuros se agregan mientras se van obteniendo con la función append usando `lista.append(nuevo_elemento)`."
   ]
  },
  {
   "cell_type": "code",
   "execution_count": null,
   "metadata": {
    "ExecuteTime": {
     "end_time": "2018-06-22T23:42:09.706920Z",
     "start_time": "2018-06-22T23:42:09.703638Z"
    }
   },
   "outputs": [],
   "source": [
    "a = [] # Lista vacia\n",
    "a.append(4) \n",
    "a.append(5)\n",
    "\n",
    "print(a)"
   ]
  },
  {
   "cell_type": "markdown",
   "metadata": {},
   "source": [
    "Además de acceder a cada elemento, las listas de Python pueden ser indexadas por rango. Esto permite entregar una nueva lista con elementos contiguos de la lista original. La sintaxis para esta operación es `lista[inicio:fin]`. La nueva lista contendrá los elementos en los índices que cumplen `inicio <= índice < fin`.\n",
    "\n",
    "Así, `lista[0:6]` entregará una nueva lista con los primeros seis valores de la lista original.\n",
    "\n",
    "Si se omite `inicio` se asumirá que es cero. Por ejemplo `lista[:6]` toma los primeros seis valores.\n",
    "\n",
    "Si se omite `fin` se asumirá que es el final de la lista. Por ejemplo `lista[6:]` toma todos los valores después del sexto.\n",
    "\n",
    "Si se omiten ambos `inicio` y `fin` se generará una copia completa de la lista. Por ejemplo `lista[:]` contendrá una copia de cada valor.\n",
    "\n",
    "Ambos valores pueden ser negativos, que indica que hay que contar desde el final. Por ejemplo `lista[-2:]` entregará los valores desde el segundo desde el final, es decir, los dos últimos valores."
   ]
  },
  {
   "cell_type": "code",
   "execution_count": null,
   "metadata": {
    "ExecuteTime": {
     "end_time": "2018-06-22T23:42:42.894083Z",
     "start_time": "2018-06-22T23:42:42.890363Z"
    }
   },
   "outputs": [],
   "source": [
    "x = [0, 1, 2, 3, 4, 5, 6, 7, 8, 9, 10]\n",
    "\n",
    "print(\"x[0:6] = \" + str(x[0:6]))\n",
    "print(\"x[:6]  = \" + str(x[:6]))\n",
    "print(\"x[6:]  = \" + str(x[6:]))\n",
    "print(\"x[:]   = \" + str(x[:]))\n",
    "print(\"x[-2:] = \" + str(x[-2:]))"
   ]
  },
  {
   "cell_type": "markdown",
   "metadata": {},
   "source": [
    "Esta operación (conocida como `slice`) permite la simplificación de operaciones en los índices de las listas y es ampliamente soportada por librerías externas de Python (como Numpy por ejemplo, que se verá más adelante). \n",
    "\n",
    "En la siguiente celda se intenta operar sobre una lista `X` entendida como una serie valores. Se quiere calcular la variación de esta serie  $\\hat{x_t} = x_{t+1} - x_{t}$, sin embargo, esta operación no es posible, por lo que se obtiene un error:"
   ]
  },
  {
   "cell_type": "code",
   "execution_count": null,
   "metadata": {
    "ExecuteTime": {
     "end_time": "2018-06-22T23:57:46.120178Z",
     "start_time": "2018-06-22T23:57:46.109082Z"
    }
   },
   "outputs": [],
   "source": [
    "X  = [1.2, 2.4, 3.1, 4.2, 1.2, 6.5, 3.2, 1.1]\n",
    "X_hat = X[1:] - X[:-1]\n",
    "\n",
    "print(X[:-1])\n",
    "print(X_hat)"
   ]
  },
  {
   "cell_type": "markdown",
   "metadata": {},
   "source": [
    "Dentro de las operaciones con listas, no se encuentra la resta, esto pues dos listas pueden contener ítems completamente heterogéneos, aparte de poseer longitudes distintas. \n",
    "\n",
    "La estructura de los mensajes de error es bastante estándar en Python: la última línea indica el nombre del error que ocurrió (en este caso, `TypeError`), junto con una explicación de cuál es el problema (en este caso, no se pueden restar listas).\n",
    "\n",
    "Las líneas anteriores indican en que parte del código se generó el error. En este caso, indica que en la línea 2 se produjo.\n",
    "\n",
    "Observación: El manejo de arreglos numérico se lleva a cabo de manera estándar con la librería Numpy, haciendo uso de esta se podrá reparar el problema de la celda anterior."
   ]
  },
  {
   "cell_type": "markdown",
   "metadata": {},
   "source": [
    "**Ejercicio**\n",
    "\n",
    "1. La estructura de lista posee *funciones internas* o *métodos*. Dada una lista `L`, es posible acceder a estas funciones usando un punto `.` luego del nombre de la lista, en esta caso `L.método`. Defina una lista y explore los métodos `extend`, `append` y `sort`. "
   ]
  },
  {
   "cell_type": "markdown",
   "metadata": {},
   "source": [
    "### Diccionarios\n",
    "\n",
    "Una estructura de datos bastante común, dada su flexibilidad son los diccionarios, denotados por `dict`. Estos corresponden a una colección de pares ordenados  por valores de \"llave\":"
   ]
  },
  {
   "cell_type": "code",
   "execution_count": null,
   "metadata": {
    "ExecuteTime": {
     "end_time": "2018-06-29T14:50:14.801570Z",
     "start_time": "2018-06-29T14:50:14.796027Z"
    }
   },
   "outputs": [],
   "source": [
    "# Una forma de declarar un diccionario es usar parentesis \"curvas\"\n",
    "\n",
    "dict_1 = {'a':'valor_1','b':list('abcd'), 'c':1}\n",
    "# Observación: se debe declarar dentro de \"{}\" la estructura es 'key' : 'value' \n",
    "\n",
    "# Para buscar una llave dentro del diccionario se puede usar 'key' in dict:\n",
    "\n",
    "print('c' in dict_1) # la llave 'c' esta presente en el dict\n",
    "print()\n",
    "print('d' in dict_1) # el valor 'd' esta en la llave 'b' pero no es una llave\n",
    "print()\n",
    "\n",
    "# Se puede acceder a los valores del diccionario usando dict['llave']\n",
    "print(dict_1['b'])\n",
    "print()\n",
    "\n",
    "# Los elementos de un diccionario pueden ser listas o estructuras propias\n",
    "# en el caso dict_1['b'] es una lista, podemos acceder al elemento [i] de la\n",
    "# lista usando dict_1['b'][i]\n",
    "\n",
    "print(dict_1['b'][2])\n",
    "print()"
   ]
  },
  {
   "cell_type": "markdown",
   "metadata": {},
   "source": [
    "Existen más estructuras de datos, entre ellas las tuplas y conjuntos. En el siguiente enlace es posible encontrar más información al respecto:\n",
    "\n",
    "http://docs.python.org.ar/tutorial/3/datastructures.html"
   ]
  },
  {
   "cell_type": "markdown",
   "metadata": {},
   "source": [
    "## Control de Flujo<a id=\"flow\"></a> \n",
    "\n",
    "Hasta ahora, Python se presenta como una calculadora capaz de manejar estructuras de datos, compararlas y mostrarlas en pantalla. Sin embargo, los algoritmos interesantes toman decisiones a lo largo del procesamiento. Para ello, Python incluye el comando `if`, que ejecutará una serie de ordenes sólo si una condición lógica es verdadera.\n",
    "\n",
    "Su sintaxis es:\n",
    "```python\n",
    "if condición: #(no indentado, termina con \":\")\n",
    "\tcódigo condicional #(indentado)\n",
    "\tmás código condicional #(indentado)\n",
    "este código ya no es condicional #(no indentado)\n",
    "```\n",
    "\n",
    "Todo el código condicional debe estar indentado un nivel más que el `if`. Esta última condición es obligatoria y se incluye para mejorar la estética del código, facilitando su lectura. Esto diferencia a Python de la mayoría de los otros lenguajes de programación, donde la indentación no juega ningún papel \"funcional\" dentro de la estructura del código."
   ]
  },
  {
   "cell_type": "code",
   "execution_count": null,
   "metadata": {},
   "outputs": [],
   "source": [
    "a = 2\n",
    "if a > 4:\n",
    "    print(\"a es mayor que 4\")\n",
    "\n",
    "if a < 4:\n",
    "    print(\"a es menor que 4\")"
   ]
  },
  {
   "cell_type": "markdown",
   "metadata": {},
   "source": [
    "`if` puede ser acompañado de una cláusula `else` que se ejecutará en caso de que la condición sea falsa."
   ]
  },
  {
   "cell_type": "code",
   "execution_count": null,
   "metadata": {},
   "outputs": [],
   "source": [
    "a = 5.2\n",
    "\n",
    "if a > 5.0:\n",
    "    print(\"a es mayor que 5.0\")\n",
    "else:\n",
    "    print(\"a no es mayor que 5.0\")"
   ]
  },
  {
   "cell_type": "markdown",
   "metadata": {},
   "source": [
    "También podemos encadenar varios `if` usando `elif` de manera que el primero que sea verdadero ejecute su código. Nuevamente podemos agregar un `else` que se ejecutará si ninguna otra cláusula es verdadera"
   ]
  },
  {
   "cell_type": "code",
   "execution_count": null,
   "metadata": {
    "ExecuteTime": {
     "end_time": "2018-06-23T00:21:25.982936Z",
     "start_time": "2018-06-23T00:21:25.979890Z"
    }
   },
   "outputs": [],
   "source": [
    "a = 7.2\n",
    "\n",
    "if a > 10.0:\n",
    "    print(\"a es mayor que 10.0\")\n",
    "elif a > 8.0:\n",
    "    print(\"a es mayor que 8.0\")\n",
    "elif a > 6.0:\n",
    "    print(\"a es mayor que 6.0\")\n",
    "else:\n",
    "    print(\"a no es mayor que 10.0, que 8.0 o que 6.0\")"
   ]
  },
  {
   "cell_type": "markdown",
   "metadata": {},
   "source": [
    "Así como un programa interesante suele tomar decisiones, también suele repetir un mismo procesamiento varias veces. Esto se expresa con `for` en Python.\n",
    "\n",
    "Su sintaxis es:\n",
    "```python\n",
    "for i in L: #(no indentado)\n",
    "\tcódigo a iterar #(indentado)\n",
    "\tmás código a iterar #(indentado)\n",
    "este código no se iterará #(no indentado)\n",
    "```\n",
    "Nuevamente el código dependiente debe estar indentado.\n",
    "\n",
    "Python ejecutará el código para cada elemento `i` de la lista (o iterador) `L`. En cada iteración, `i` tomará el valor del siguiente elemento de `L`.\n",
    "\n",
    "**Observación**: Los iteradores se comportan como listas, pero son más eficientes con los recursos, `range()` es un iterador de uso frecuente. (`range(N)` entrega los números desde `0` hasta `N-1`. Por ejemplo `range(4)` será `[0, 1, 2, 3]`)"
   ]
  },
  {
   "cell_type": "code",
   "execution_count": null,
   "metadata": {
    "ExecuteTime": {
     "end_time": "2018-06-23T00:27:52.716001Z",
     "start_time": "2018-06-23T00:27:52.712812Z"
    }
   },
   "outputs": [],
   "source": [
    "for i in range(5):\n",
    "    print(i)    "
   ]
  },
  {
   "cell_type": "code",
   "execution_count": null,
   "metadata": {
    "ExecuteTime": {
     "end_time": "2018-06-23T00:29:26.619422Z",
     "start_time": "2018-06-23T00:29:26.615655Z"
    }
   },
   "outputs": [],
   "source": [
    "N = 10\n",
    "lista_autos = []n la proxima sesión se va a observar como estos centroides se van poscionando \n",
    "for NoImportaElNombre in range(N):\n",
    "    \n",
    "    nombre_pivote = str(NoImportaElNombre+1)\n",
    "    lista_autos.append('A' + nombre_pivote)\n",
    "    \n",
    "print(lista_autos)"
   ]
  },
  {
   "cell_type": "markdown",
   "metadata": {},
   "source": [
    "La última instrucción de control de flujo es `while`. Al igual que `for`, repite un grupo de comandos varias veces, pero en vez de ejecutarlos para cada elemento de una lista, `while` los ejecuta hasta que una condición dada sea falsa.\n",
    "\n",
    "Su sintaxis es:\n",
    "```python\n",
    "while condición_lógica: #(no indentado)\n",
    "\tcódigo a iterar #(indentado)\n",
    "\tmás código a iterar #(indentado)\n",
    "este código no se iterará #(no indentado)\n",
    "```\n",
    "\n",
    "Al encontrarse con `while`, Python calculará el valor de la condición. Si es verdadero, ejecutará el código dependiente. Luego volverá a revisar el valor de la condición. Si nuevamente es verdadero, volverá a ejecutar el código, y así hasta que sea falso."
   ]
  },
  {
   "cell_type": "code",
   "execution_count": null,
   "metadata": {
    "ExecuteTime": {
     "end_time": "2018-06-23T00:31:16.580399Z",
     "start_time": "2018-06-23T00:31:16.577192Z"
    }
   },
   "outputs": [],
   "source": [
    "a = 1\n",
    "\n",
    "while a < 10:\n",
    "    print(a)\n",
    "    a = a + 1\n",
    "\n",
    "print(\"Completado\")"
   ]
  },
  {
   "cell_type": "markdown",
   "metadata": {},
   "source": [
    "Otra característica útil es la comprensión de listas, esta hace uso de una sintaxis reducida de control de flujo para producir listas de manera compacta:"
   ]
  },
  {
   "cell_type": "code",
   "execution_count": null,
   "metadata": {
    "ExecuteTime": {
     "end_time": "2018-06-23T02:11:04.719070Z",
     "start_time": "2018-06-23T02:11:04.715939Z"
    }
   },
   "outputs": [],
   "source": [
    "# Lista de los primeros 100 numeros entre 0 y 99.\n",
    "a = [i for i in range(100)]\n",
    "\n",
    "# Lista de los cuadrados de los numeros anteriores.\n",
    "b = [i**2 for i in a]\n",
    "print(b)"
   ]
  },
  {
   "cell_type": "markdown",
   "metadata": {},
   "source": [
    "De igual manera la comprensión de diccionarios permite simplificar la escritura:"
   ]
  },
  {
   "cell_type": "code",
   "execution_count": null,
   "metadata": {
    "ExecuteTime": {
     "end_time": "2018-07-13T20:32:26.201197Z",
     "start_time": "2018-07-13T20:32:26.197642Z"
    }
   },
   "outputs": [],
   "source": [
    "{'elemento_'+str(i):i for i in range(6)}\n",
    "\n",
    "nombres = ['Priscila','Celestino','Angelino','Bernardo','Rosa','Serafina']\n",
    "nombres_dict = {n:i for i,n in enumerate(nombres)}\n",
    "\n",
    "print('diccionario de nombres enumerados: ')\n",
    "print(nombres_dict,'\\n')\n",
    "\n",
    "nombres.sort()\n",
    "print('Nombres ordeados:', nombres)"
   ]
  },
  {
   "cell_type": "markdown",
   "metadata": {},
   "source": [
    "**Ejercicios**\n",
    "\n",
    "Con lo hasta aquí visto, es posible comenzar a construir un algoritmo de clustering básico pero ampliamente utilizado en ciencia de datos. \n",
    "\n",
    "El algoritmo a implementar se conoce como **k-means**, este corresponde a la rama del aprendizaje no supervisado y consiste en agrupar de manera iterativa puntos similares dentro de un mismo cluster (o grupo). Para calcular la similitud se hace valer de una función de distancia la cual usted deberá implementar.\n",
    "\n",
    "*  Declare dos listas numéricas de longitud N. Estas listas serán usadas para probar si su función de distancia funciona correctamente, por tanto N puede ser el valor que Usted estime conveniente. (En la siguiente sección abstraerá su función para que funcione con datos reales)\n",
    "\n",
    "* Implemente la distancia euclidiana sobre las listas que declaró en el paso anterior. Esta se define por  $\\sqrt{\\sum_{i = 1}^{N} |x_i - y_i|^{2}}$, donde $x = (x_1, ..., x_N)$ e $y = (y_1, ..., y_N)$ son las listas definidas anteriormente.  "
   ]
  },
  {
   "cell_type": "code",
   "execution_count": null,
   "metadata": {
    "ExecuteTime": {
     "end_time": "2018-07-18T02:33:47.767885Z",
     "start_time": "2018-07-18T02:33:47.763406Z"
    }
   },
   "outputs": [],
   "source": [
    "# Inpute las listas de largo arbitrario\n",
    "lista_a = []\n",
    "lista_b = []\n",
    "\n",
    "# Inicialice 'Suma'\n",
    "Suma = \n",
    "\n",
    "# Recorra los valores de ambas listas mediante un ciclo for\n",
    "for i in range(len()):\n",
    "    # Para cada i , actualice el valor de 'Suma'\n",
    "    Suma += \n",
    "\n",
    "# Una vez el ciclo for terminado se realiza la última operación necesaria sobre 'Suma'\n",
    "Suma = pow(Suma, 1 / 2)\n",
    "\n",
    "# Pruebe su rutina\n",
    "print(Suma)"
   ]
  },
  {
   "cell_type": "markdown",
   "metadata": {},
   "source": [
    "## Funciones<a id=\"funciones\"></a> \n",
    "\n",
    "En la práctica, una vez que se resuelve un problema, no tiene sentido resolverlo de nuevo. En su lugar, tiene sentido abstraer la solución para reutilizar tal sección de código en las situaciones pertinentes. Para ello se creará una función con la instrucción `def`.\n",
    "\n",
    "Su sintaxis es:\n",
    "```python\n",
    "def nombre_funcion(argumento1, argumento2, argumento3):\n",
    "\tcódigo reutilizado\n",
    "\tmás código reutilizado\n",
    "```\n",
    "\n",
    "Los argumentos sirven para pasar información externa al código de la función.\n",
    "\n",
    "Para usar la función se debe usar su nombre, junto con los argumentos correspondientes,\n",
    "\n",
    "```python\n",
    "nombre_funcion(dato1, dato2, dato3)\n",
    "```\n",
    "\n",
    "Al encontrarse con esta instrucción, Python ejecutará el código de la función, donde `argumento1` tendrá el valor de `dato1` y así sucesivamente.\n",
    "\n",
    "Una función puede tener tantos argumentos como sea necesario."
   ]
  },
  {
   "cell_type": "code",
   "execution_count": null,
   "metadata": {
    "ExecuteTime": {
     "end_time": "2018-06-23T01:14:26.485683Z",
     "start_time": "2018-06-23T01:14:26.474225Z"
    }
   },
   "outputs": [],
   "source": [
    "def saludar():\n",
    "    print(\"¡Hola!\")\n",
    "\n",
    "def contar_hasta(N):\n",
    "    for i in range(N):\n",
    "        print(i + 1)\n",
    "\n",
    "def contar_entre(bajo, alto):\n",
    "    for i in range(bajo, alto):\n",
    "        print(i)\n",
    "#Comment\n",
    "x = 'chao'\n",
    "print(x)\n",
    "print(\"-------\")\n",
    "saludar()\n",
    "saludar()\n",
    "saludar()\n",
    "print(\"-------\")\n",
    "contar_entre(2, 5)#Comment\n",
    "x = 'chao'\n",
    "print(x)\n",
    "print(\"-------\")\n",
    "contar_hasta(6)"
   ]
  },
  {
   "cell_type": "markdown",
   "metadata": {},
   "source": [
    "Muchas veces es útil que una función entregue un valor al código que la llamó. Para ello se usa la instrucción `return`.\n",
    "\n",
    "Sintaxis:\n",
    "```python\n",
    "def funcion(argumentos): #(no indentado)\n",
    "\tcódigo reutilizado #(indentado)\n",
    "\tmás código reutilizado #(indentado)\n",
    "\t...\n",
    "\treturn valor_de_interés #(indentado)\n",
    "```\n",
    "\n",
    "Luego, a la hora de usar a la función, se puede extraer el valor que devolvió y usarlo posteriormente, por ejemplo, guardarlo en una variable.\n",
    "\n",
    "```python\n",
    "x = funcion(1)\n",
    "```\n",
    "\n",
    "En este caso, tras ejecutar la función, el valor de `x` será `valor_de_interés`."
   ]
  },
  {
   "cell_type": "code",
   "execution_count": null,
   "metadata": {
    "ExecuteTime": {
     "end_time": "2018-06-23T01:16:19.420964Z",
     "start_time": "2018-06-23T01:16:19.415469Z"
    }
   },
   "outputs": [],
   "source": [
    "def cuadrado(x):\n",
    "    return x * x\n",
    "\n",
    "def cubo(x):\n",
    "    return x * x * x\n",
    "\n",
    "x = 4\n",
    "x2 = cuadrado(x)\n",
    "x3 = cubo(x)\n",
    "\n",
    "print(x)\n",
    "print(x2)\n",
    "print(x3)\n",
    "print(cubo(x3))"
   ]
  },
  {
   "cell_type": "markdown",
   "metadata": {},
   "source": [
    "Una función puede devolver más de un valor"
   ]
  },
  {
   "cell_type": "code",
   "execution_count": null,
   "metadata": {
    "ExecuteTime": {
     "end_time": "2018-06-23T01:16:22.640288Z",
     "start_time": "2018-06-23T01:16:22.635513Z"
    }
   },
   "outputs": [],
   "source": [
    "def intercambiar(x, y):\n",
    "    return y, x\n",
    "\n",
    "x = 2\n",
    "y = 3\n",
    "\n",
    "x, y = intercambiar(x, y)\n",
    "\n",
    "print(\"x = \" + str(x))\n",
    "print(\"y = \" + str(y))"
   ]
  },
  {
   "cell_type": "markdown",
   "metadata": {},
   "source": [
    "**Ejercicio**\n",
    "\n",
    "Se va a continuar la construcción del algoritmo **k-means** como una función. \n",
    "\n",
    "* Defina la distancia antes obtenida usando la sintaxis de función. esta deberá ser capaz de calcular la distancias entre dos listas numéricas de igual longitud. Declare tal función como `dist(arg_1,arg_2)`."
   ]
  },
  {
   "cell_type": "code",
   "execution_count": null,
   "metadata": {
    "ExecuteTime": {
     "end_time": "2018-06-29T02:24:33.657519Z",
     "start_time": "2018-06-29T02:24:33.645902Z"
    }
   },
   "outputs": [],
   "source": [
    "def dist(lista_x, lista_y):\n",
    "    \"\"\"\n",
    "    lista_x <- list, lista de números.\n",
    "    lista_y <- list, lista de números.\n",
    "    \"\"\"\n",
    "    # Utilice parte del código del ejercicio de la Sección Control de flujo\n",
    "    \n",
    "    return Suma\n",
    "\n",
    "# Pruebe su función\n",
    "dist([3, 4], [0, 0])"
   ]
  },
  {
   "cell_type": "markdown",
   "metadata": {},
   "source": [
    "* Una alternativa a la definición de funciones usando la sintaxis declarativa antes expuesta, es usar una sintaxis funcional, esta se vale de la función `lambda`, la cual permite definir funciones en línea, por ejemplo, la siguiente función calcula los valores de $f(x) = 2x^{2}$: \n",
    "```python\n",
    "f = lambda x: 2*x**2\n",
    "```  \n",
    "Modifique la función de distancia antes obtenida  para calcular la *distancia p*:\n",
    "\\begin{equation*}\n",
    "    \\left ( {\\sum_{i = 1}^{N} |x_i - y_i|^{p}}  \\right )^{\\frac{1}{p}}\n",
    "\\end{equation*}\n",
    "Para ello, declare el exponente $p$ como argumento de su función. Utilice la notación `lambda` para fijar una función de distancia dado el valor $p$ de su elección. (Esta propiedad se conoce como evaluación parcial en programación funcional)"
   ]
  },
  {
   "cell_type": "code",
   "execution_count": null,
   "metadata": {
    "ExecuteTime": {
     "end_time": "2018-06-29T02:24:33.657519Z",
     "start_time": "2018-06-29T02:24:33.645902Z"
    }
   },
   "outputs": [],
   "source": [
    "def dist(lista_x, lista_y, p):\n",
    "    \"\"\"\n",
    "    lista_x <- list, lista de números.\n",
    "    lista_y <- list, lista de números.\n",
    "    p <- int, potencia de la distancia.\n",
    "    \"\"\"\n",
    "     \n",
    "    # defina la función potencia_p con la sintaxis 'lambda'\n",
    "    potencia_p = lambda x: \n",
    "    \n",
    "    # Utilice el código de la celda anterior y modifique lo necesario\n",
    "   \n",
    "    return Suma\n",
    "\n",
    "# Pruebe su función\n",
    "dist([4, 5], [1, 1], 2)"
   ]
  },
  {
   "cell_type": "markdown",
   "metadata": {},
   "source": [
    "## Módulos<a id=\"modulos\"></a> \n",
    "\n",
    "Las librerías, o *módulos* en Python corresponden a colecciones de funciones, estructuras de datos y objetos en general. Cada módulo suele especializarse en un área en particular. Por ejemplo, Numpy trata todo el tema de matrices y manejo numérico, Scikit-learn aprendizaje de máquinas; Matplotlib que respecta a gráficos, etc..\n",
    "\n",
    "Para usar las funciones de un módulo primero se debe descargar el módulo al computador (Anaconda viene con los módulos más usados en Data Science). Luego, se debe importar desde Python usando la instrucción `import`.\n",
    "\n",
    "Sintaxis:\n",
    "```python\n",
    "import nombre_del_modulo\n",
    "```\n",
    "\n",
    "Una vez importado, todas las funciones y otros objetos dentro del módulo pueden ser accesados usando su nombre completo `nombre_del_modulo.nombre_de_la_funcion`. Es posible asignar nombre al modulo, de manera que acceder a las funciones sea más sencillo, también es posible solo obtener una función en especifico dado un modulo.\n",
    "\n",
    "En el primer caso:\n",
    "```python\n",
    "import nombre_del_modulo as nuevo_nombre_modulo\n",
    "```\n",
    "\n",
    "En el segundo:\n",
    "```python\n",
    "from nombre_del_modulo import funcion as nuevo_nombre_funcion\n",
    "```\n",
    "Donde `nuevo_nombre_función`, al igual que `nuevo_nombre_modulo` sólo renombra el recurso que se desea importar (`as`es por tanto opcional)."
   ]
  },
  {
   "cell_type": "markdown",
   "metadata": {},
   "source": [
    "### Numpy<a id=\"numpy\"></a> \n",
    "\n",
    "NumPy es el módulo fundamenta para la computación científica en Python, según [Numpy](http://www.numpy.org/). Este modulo contiene operaciones de alto rendimiento en algebra lineal, transformada de Fourier y calculo de valores aleatorios. Permite el manejo eficiente de arreglos N dimensionales y se integra con C/C++ y Fortran.\n",
    "\n",
    "Su uso se ha vuelto un estándar en computación científica, en particular en ciencia de datos y machine learning. Se importa usando la sintaxis:"
   ]
  },
  {
   "cell_type": "code",
   "execution_count": null,
   "metadata": {
    "ExecuteTime": {
     "end_time": "2018-06-29T01:06:57.863456Z",
     "start_time": "2018-06-29T01:06:57.809044Z"
    }
   },
   "outputs": [],
   "source": [
    "import numpy as np\n",
    "# \" as np \" es opcional pero se usa como regla estandar."
   ]
  },
  {
   "cell_type": "markdown",
   "metadata": {},
   "source": [
    "Algunas funcionalidades básicas corresponden a:"
   ]
  },
  {
   "cell_type": "code",
   "execution_count": null,
   "metadata": {
    "ExecuteTime": {
     "end_time": "2018-06-23T02:16:03.707447Z",
     "start_time": "2018-06-23T02:16:03.703653Z"
    }
   },
   "outputs": [],
   "source": [
    "# Arreglo de \"unos\" + operacion componente a componente \"*9\"\n",
    "e = np.ones(100)*9\n",
    "\n",
    "# Matriz identidad de dimension \"10\"\n",
    "I = np.eye(10)\n",
    "\n",
    "# Medición robusta de dimensión\n",
    "len(e)\n",
    "len(I)\n",
    "\n",
    "# \"Forma\" del arreglo\n",
    "\n",
    "e.shape\n",
    "I.shape\n",
    "\n",
    "# Cambio de forma del arreglo argumento [IMPORTANTE]\n",
    "e_reshape = e.reshape(10,10)"
   ]
  },
  {
   "cell_type": "markdown",
   "metadata": {},
   "source": [
    "Es posible hacer **slice** como en las listas:"
   ]
  },
  {
   "cell_type": "code",
   "execution_count": null,
   "metadata": {
    "ExecuteTime": {
     "end_time": "2018-06-23T02:18:37.994355Z",
     "start_time": "2018-06-23T02:18:37.990349Z"
    }
   },
   "outputs": [],
   "source": [
    "# declaración de un arreglo 4x3\n",
    "a = np.array([[1, 2, 3, 4], [5, 6, 7, 8], [9, 10, 11, 12]])\n",
    "print('a = ', a)\n",
    "\n",
    "# Slice del arreglo \n",
    "\n",
    "b = a[:2, 1:3]\n",
    "print('b=',b)"
   ]
  },
  {
   "cell_type": "code",
   "execution_count": null,
   "metadata": {
    "ExecuteTime": {
     "end_time": "2018-06-23T02:19:00.181418Z",
     "start_time": "2018-06-23T02:19:00.178284Z"
    }
   },
   "outputs": [],
   "source": [
    "b[0, 0] = 77\n",
    "print(b)"
   ]
  },
  {
   "cell_type": "markdown",
   "metadata": {},
   "source": [
    "También permite hacer operaciones lógicas:"
   ]
  },
  {
   "cell_type": "code",
   "execution_count": null,
   "metadata": {
    "ExecuteTime": {
     "end_time": "2018-06-23T02:20:50.660396Z",
     "start_time": "2018-06-23T02:20:50.656477Z"
    }
   },
   "outputs": [],
   "source": [
    "a > 3"
   ]
  },
  {
   "cell_type": "code",
   "execution_count": null,
   "metadata": {
    "ExecuteTime": {
     "end_time": "2018-06-23T02:21:36.933037Z",
     "start_time": "2018-06-23T02:21:36.928516Z"
    }
   },
   "outputs": [],
   "source": [
    "# seleccionamos los valores \"a\" mayores que 3\n",
    "a[a>3]"
   ]
  },
  {
   "cell_type": "markdown",
   "metadata": {},
   "source": [
    "### Broadcasting de arreglos\n",
    "\n",
    "**Ejercicio**\n",
    "\n",
    "* Defina un arreglo 2-dimensional, para ello genere una lista de valores numéricos usando `np.arange` (símil de `range`) luego use el método `reshape` para definir las dimensiones. (hint: Una tabla de 2x2 se puede producir a partir de una lista de 4 elementos con `shape=[2,2]`)\n",
    "\n",
    "* Declare un arreglo con tantos elementos como columnas tenga su arreglo inicial. ¿Cómo se comporta la suma entre estos arreglos? (hint: la función `randomn` del Módulo  `random` de `Numpy`: `np.random.randomn` permite crear arreglos conformados por números al azar)"
   ]
  },
  {
   "cell_type": "markdown",
   "metadata": {},
   "source": [
    "Dentro de las funciones disponibles en Numpy se encuentra la exportación y carga de arreglos en formato `.npy`. Si bien esta funcionalidad permite trabajar con datos, existen módulos especializados en esta tarea (pandas por ejemplo). No obstante, a modo de introducción a manejo de datos y uso de Numpy se hará uso de tal funcionalidad. (En la siguiente sesión se profundizará en torno a la visualización y manejo de datos con pandas + matplotlib y seaborn)\n",
    "\n",
    "**Ejercicios**\n",
    "\n",
    "Haciendo uso del módulo Numpy y la función de distancia antes definida, se completará el algoritmo **k-means**. Esto se hará con datos reales, correspondientes a la medición del índice de desarrollo humano en relación a la capacidad estadística en 140 países. \n",
    "\n",
    "Utilice el siguiente código, para cargar los datos en la variable df (dataframe):"
   ]
  },
  {
   "cell_type": "code",
   "execution_count": null,
   "metadata": {
    "ExecuteTime": {
     "end_time": "2018-06-29T01:07:06.024473Z",
     "start_time": "2018-06-29T01:07:05.856499Z"
    }
   },
   "outputs": [],
   "source": [
    "from utils.utils_c1 import grafica_inicialización, grafica_kmeans\n",
    "\n",
    "# Cargar los datos en una matriz\n",
    "df = np.load('datos/C1/SCI_HDI.npy')\n",
    "\n",
    "# Es necesario escalar la columna 0 que corresponde al IDH\n",
    "df[:, 1] = df[:, 0] / 100"
   ]
  },
  {
   "cell_type": "markdown",
   "metadata": {},
   "source": [
    "Para programar el algoritmo k-means serán definidas dos funciones: `inicializar_centroides` e `iteracion_kmeans`. Para ello use la estructura declarativa `def` y modele como variables: \n",
    "  \n",
    "   * `k`: correspondiente al numero de centroides.\n",
    "   * `tol`: tolerancia del modelo.\n",
    "   * `max_it`: máximo de iteraciones permitidas.\n",
    "   * `p` (opcional): El grado de la p-distancia a usar."
   ]
  },
  {
   "cell_type": "code",
   "execution_count": null,
   "metadata": {
    "ExecuteTime": {
     "end_time": "2018-07-18T03:13:43.432805Z",
     "start_time": "2018-07-18T03:13:43.430132Z"
    }
   },
   "outputs": [],
   "source": [
    "# Parámetros del algoritmo\n",
    "k = 6\n",
    "tol = 0.0001\n",
    "max_iter = 100\n",
    "p = 2\n",
    "\n",
    "# Variables de inicialización\n",
    "dists = None\n",
    "n_iter = 0"
   ]
  },
  {
   "cell_type": "markdown",
   "metadata": {},
   "source": [
    "La función `inicializar_centroides` debe:\n",
    "\n",
    "1. Dada una cantidad `k`, la función debe obtener `k` números enteros al azar entre 0 y 139. Estos servirán para obtener los centroides iniciales. Utilice para ello la función np.random.choice\n",
    "\n",
    "2. Con la lista anterior de números enteros, seleccione `k` filas en la variable `df`, donde la fila seleccionada, corresponderá a un numero entre 0 y 139 tomado de la lista. Cree una nueva lista `centroides` en donde cada ítem sea una de las filas seleccionadas en `df`.\n",
    "\n",
    "3. Genere un arreglo de tamaño 140 usando `np.zeros`. Este se usará para almacenar el cluster al que cada fila de `df` pertenece. Denote este arreglo por `clust`."
   ]
  },
  {
   "cell_type": "code",
   "execution_count": null,
   "metadata": {
    "ExecuteTime": {
     "end_time": "2018-06-29T01:07:07.916386Z",
     "start_time": "2018-06-29T01:07:07.728736Z"
    }
   },
   "outputs": [],
   "source": [
    "def inicializar_centroides(df, k, seed=1950):\n",
    "    \"\"\"\n",
    "    df <- numpy array, matriz. En las filas, las observaciones y en las columnas, \n",
    "            las características o atributos correspondientes.\n",
    "    k <- int, número de cluster.\n",
    "    \"\"\"\n",
    "    \n",
    "    # Garantizar replicabilidad\n",
    "    np.random.seed(seed=seed)\n",
    "    \n",
    "    # Inicialice los centroides mediante 'np.random.choice'\n",
    "    indices_centroides = np.random.choice()\n",
    "    centroides = df[]  # Recupere las filas que corresponden a 'indices_centroides'\n",
    "    clust = np.zeros((,))  # Inpute la dimensión del vector\n",
    "    return centroides, clust\n",
    "\n",
    "centroides, clust = inicializar_centroides(df, 6)\n",
    "grafica_inicialización(df, centroides)"
   ]
  },
  {
   "cell_type": "markdown",
   "metadata": {},
   "source": [
    "La función `iteracion_kmeans` debe:\n",
    "1. Generar un control de flujo (`if`) que permita un máximo de `max_it` pasos. En cada iteración debe:   \n",
    "2. Para cada fila de `df`, modificar el arreglo `dists` que contiene la distancia `p` a cada ítem de `centroides`. Es decir, deberá recorrer cada fila de `df` y en cada paso, obtener un arreglo de tamaño `k` con su distancia a cada elemento de `centroides`.    Las filas de `df` se denotarán como *observaciones*.  \n",
    "3. En `dists` obtener el índice con menor distancia usando np.argmin() y almacenar este valor en el arreglo `clust`. Este índice representa al centroide más cercano para la observación actual. (Note que el arreglo `dists` varia para cada observación de `df` y en cada iteración del ciclo)  \n",
    "4. Una vez obtenido el centroide más cercano a cada observación, obtener todas aquellas filas que comparten el mismo índice en `clust` y calcular el promedio de estas. El valor obtenido debe reemplazar al valor del centroide correspondiente. Para ello definir la variable `centroides_old` con los valores actuales de `centroides` y luego reemplazar los valores de `centroides` con los promedios obtenidos. (Recuerde que si el centroide $j$ es el más cercano a la observación $i$ entonces su valor de `clust` es $j$, en este paso, se le pide que calcule el promedio de todas las filas de `df` que comparten `clust` = $j$ y reemplace el valor del centroide $j$ por aquel promedio)  \n",
    "5.  Calcule la distancia entre los ítems de `centroides_old` y `centroides`, almacenándolos en `dists_centroides`. Si la máxima distancia entre ellos es menor que `tol` debe detener el flujo externo (el número de iteraciones `n_iter` no se incrementa).\n",
    "    \n",
    "El resultado es graficado gracias a la función `grafica_kmeans` que fue diseñada para dicho fin.\n",
    "\n",
    "Observe que si bien los centroides iniciales pertenecen a `df`, los obtenidos finalmente son *prototipos* que permiten hacer cierto análisis sobre la distribución de los datos en el plano."
   ]
  },
  {
   "cell_type": "code",
   "execution_count": null,
   "metadata": {
    "ExecuteTime": {
     "end_time": "2018-07-18T03:36:37.160186Z",
     "start_time": "2018-07-18T03:36:37.153565Z"
    },
    "scrolled": false
   },
   "outputs": [],
   "source": [
    "def iteracion_kmeans(df, centroides, clust, dists, p, tol, max_iter, n_iter):\n",
    "    \"\"\"\n",
    "    df <- numpy array, matriz. En las filas, las observaciones y en las columnas, \n",
    "            las características o atributos correspondientes.\n",
    "    centroides <- numpy array, matriz. En las filas, los centroides y en las columnas, \n",
    "            las características o atributos correspondientes.\n",
    "    clust <- numpy array, vector. Contiene las asignaciones de las observaciones de df\n",
    "    dists <- numpy array, matriz. Contiene las distancias de la observaciones y los k\n",
    "               centroides. \n",
    "    p <- int, potencia de la función distancia\n",
    "    tol <- float, tolerancia del modelo.\n",
    "    max_iter <- int, máximo de iteraciones permitidas.\n",
    "    n_iter <- int, número de iteraciones realizadas.\n",
    "    \"\"\"\n",
    "    \n",
    "    # verificar que el máximo numero de iteraciones no se haya alcanzado\n",
    "    if max_iter < n_iter:\n",
    "        print(\"Maximo numero de iteraciones alcanzado!\")\n",
    "    else:\n",
    "        # Verificar que la matriz de distancias se haya inicializado\n",
    "        if dists is None:\n",
    "            dists = np.ones(()) * np.inf  # inpute el tamaño de 'np.ones'\n",
    "            \n",
    "        # Actualizar la distancia y la asignación de cada una de las observaciones\n",
    "        for i in range():  # inpute el largo del ciclo for\n",
    "            \n",
    "            # Calcular la distancia de la observación a todos los centroides\n",
    "            for j in range(): # inpute el largo del ciclo for\n",
    "                dists[i, j] = dist() \n",
    "            # Reasignar la observación a su centroide más cercano\n",
    "            clust[i] = \n",
    "            \n",
    "        # Guardar los centroides actuales en memoria\n",
    "        centroides_old = centroides.copy()\n",
    "        \n",
    "        # Inicializar el vector 'dists_centroides'\n",
    "        dists_centroides = np.ones((,)) * np.inf\n",
    "        \n",
    "        # Actualizar los centroides de cada cluster\n",
    "        for j in range():  # inpute el largo del ciclo for\n",
    "            centroides[j] = np.mean(, axis=0)  # inpute el argumento de 'np.mean'\n",
    "            \n",
    "            # Calcular la distancia del cenroide anterior y el nuevo\n",
    "            dists_centroides[j] = dist() \n",
    "            \n",
    "        # Verificar si la solución convergió\n",
    "        if np.max(dists_centroides) <= tol:\n",
    "            print(\"La solución convergió!\")\n",
    "        else:\n",
    "            n_iter = n_iter + 1\n",
    "    return centroides, clust, dists, n_iter\n",
    "\n",
    "# Pruebe su función\n",
    "centroides, clust, dists, n_iter = iteracion_kmeans(df, centroides, clust, dists, p, tol, max_iter, n_iter)\n",
    "\n",
    "# Grafique el resultado de la iteración\n",
    "grafica_kmeans(df, centroides, clust, n_iter)"
   ]
  },
  {
   "cell_type": "markdown",
   "metadata": {},
   "source": [
    "* Finalmente, para ejecutar el procedimiento hasta que la solución converja. Para ello implemente un ciclo `for`, que verifique si la solución converge para pasar a la siguiente iteración:"
   ]
  },
  {
   "cell_type": "code",
   "execution_count": null,
   "metadata": {
    "ExecuteTime": {
     "end_time": "2018-07-18T03:36:39.073308Z",
     "start_time": "2018-07-18T03:36:39.014156Z"
    }
   },
   "outputs": [],
   "source": [
    "# Parámetros del algoritmo\n",
    "k = 6\n",
    "tol = 0.0001\n",
    "max_iter = 100\n",
    "p = 2\n",
    "\n",
    "# Variables de inicialización\n",
    "dists = None\n",
    "n_iter = 0\n",
    "centroides, clust = inicializar_centroides()\n",
    "\n",
    "# Grafique la inicialización de los centroides\n",
    "grafica_inicialización(df, centroides)\n",
    "\n",
    "\n",
    "for i in range():  # inpute el largo del ciclo for\n",
    "    \n",
    "    # Guarde al valor actual de 'n_iter' en 'n_iter_old'\n",
    "    n_iter_old = n_iter\n",
    "    centroides, clust, dists, n_iter = iteracion_kmeans()\n",
    "    \n",
    "    # Verifique la convergencia del algoritmo\n",
    "    if n_iter_old == n_iter:\n",
    "        # Grafique el resultado del algoritmo\n",
    "        grafica_kmeans(df, centroides, clust, n_iter)\n",
    "        break"
   ]
  },
  {
   "cell_type": "markdown",
   "metadata": {},
   "source": [
    "# Conclusión\n",
    "\n",
    "Así termina esta pequeña introducción al lenguaje Python. Finalmente un pequeño articulo de por que elegir Python sobre otras herramientas."
   ]
  },
  {
   "cell_type": "code",
   "execution_count": null,
   "metadata": {
    "ExecuteTime": {
     "end_time": "2018-06-23T00:33:56.329434Z",
     "start_time": "2018-06-23T00:33:56.323087Z"
    }
   },
   "outputs": [],
   "source": [
    "print(\"Auf wiedersehen :D\")"
   ]
  },
  {
   "cell_type": "markdown",
   "metadata": {},
   "source": [
    "### ¿Por qué elegir Python por sobre otras alternativas como R, Stata o SAS? <a id=\"opcional\"></a>\n",
    "\n",
    "Python no es la solución mágica para todo el mundo. Tanto Python como R, Stata y SAS tienen sus puntos fuertes en diferentes áreas, por lo que cada uno tiene su lugar. Sin embargo, haremos un pequeño argumento a favor de Python. Es la responsabilidad del lector analizar qué tanto se aplica en su caso.\n",
    "\n",
    "Lo primero que hay que notar es que Python y R son lenguajes abiertos y \"libres\" (así como la mayoría de sus librerías). Esto significa que no hay licencias que pagar o condiciones de uso que seguir; pueden ser usados para cualquier fin de manera gratuita. Incluso, si un \"paquete\" o librería no calza adecuadamente al proyecto, se puede modificar (o pedir amablemente a algún colaborador que modifique) para incluir nuevas características. Esta apertura es la que atrae a muchos investigadores a publicar sus resultados en Python y R.\n",
    "\n",
    "Por otro lado, como es natural, Stata y SAS valen lo que valen por algo. Sus interfaces gráficas hacen el proceso simple, sin siquiera necesitar código la mayoría de las veces. Sin embargo, esta simplicidad puede a veces ser su propia desventaja, ya que muchos parámetros pueden quedar escondidos detrás de la interfaz. Aquí Python y R ofrecen más control sobre el proceso de estimación, ya que todos los parámetros pueden ser entregados a medida que sea necesario (pero manteniendo un valor por defecto razonable).\n",
    "\n",
    "Python y R, al ser lenguajes, pueden automatizar tareas con facilidad. En vez de tener que cambiar parámetros, definir algoritmos y fuentes de datos manualmente cada vez que se utilizan como en las interfaces gráficas, Python y R pueden describir todo el flujo de trabajo en el mismo lenguaje, siendo sólo necesario hacer un click para ejecutar todo el proceso. SAS y Stata también tienen sistemas de Macros para conseguir un resultado similar, pero Python es más legible y además más poderoso ya que tiene acceso a todo tipo de herramientas de sistema: ¿Necesitas bajar un dato de internet como parte del proceso? Se puede. ¿Enviar un email cuando termine? Se puede. ¿Generar un gráfico interactivo? Se puede. ¿Realizar pruebas de rigor para determinar que el algoritmo generaliza a nuevos datos automáticamente cada vez que cambia el algoritmo? Se puede. Etcétera.\n",
    "\n",
    "En cuanto a disponibilidad de metodologías, los métodos más comunes están en todas las opciones. Posiblemente algún método recién salido del horno estará sólo en R o sólo en Python, pero la gran mayoría aparece en las otras alternativas rápidamente. Un caso importante es el de métodos del estado del arte como redes neuronales profundas (_deep learning_), que sólo están en Python (SAS tiene redes neuronales, pero usa modelos de los años 60-80, todos los avances de la última década están en Python y es poco probable que sean portados a otros lenguajes en el corto o mediano plazo por su gran complejidad).\n",
    "\n",
    "Entre Python y R podemos contar que R es un lenguaje específicamente apuntado a la estadística, mientras que Python es un lenguaje para uso general, lo que se refleja en su sintaxis (para ver una comparación de tareas típicas, puedes ver [este link](https://www.dataquest.io/blog/python-vs-r/)). Como punto adicional, la sintaxis de Python es más estándar con respecto a otros lenguajes de programación, lo que es una ventaja si después se desea trabajar en otra área más especializada.\n",
    "\n",
    "También hay que considerar que Python ha sido diseñado para que sea fácil de conectar a otras librerías especializadas y optimizadas. Por ejemplo, las partes críticas de Numpy, la librería de matrices de Python, están escrita en C, un lenguaje usado para código de alto desempeño. Así, Python logra ser fácil de escribir y veloz a la vez. Esto hace que sea más fácil de usar en un ambiente de producción que R (entendiendo por producción un producto expuesto al cliente final, como por ejemplo las páginas de Google, YouTube y Facebook).\n",
    "\n",
    "Por todos estas ventajas, Python es uno de los lenguajes preferidos para trabajar con Big Data y Machine Learning, ya que cuando hay muchísimos datos tenemos que sincronizarlos entre diferentes bases de datos, lo que significa comunicarse con herramientas externas especializadas (que es donde Python brilla). SAS y Stata también tienen sus propias soluciones, pero se deben comprar aparte y son menos flexibles como ya ha sido descrito antes.\n",
    "\n",
    "Como conclusión podemos quedarnos con uno de los dichos típicos en la industria: \"R para el análisis, Python para la producción\"."
   ]
  }
 ],
 "metadata": {
  "hide_input": false,
  "kernelspec": {
   "display_name": "Python 3",
   "language": "python",
   "name": "python3"
  },
  "language_info": {
   "codemirror_mode": {
    "name": "ipython",
    "version": 3
   },
   "file_extension": ".py",
   "mimetype": "text/x-python",
   "name": "python",
   "nbconvert_exporter": "python",
   "pygments_lexer": "ipython3",
   "version": "3.6.4"
  },
  "toc": {
   "colors": {
    "hover_highlight": "#DAA520",
    "navigate_num": "#000000",
    "navigate_text": "#333333",
    "running_highlight": "#FF0000",
    "selected_highlight": "#FFD700",
    "sidebar_border": "#EEEEEE",
    "wrapper_background": "#FFFFFF"
   },
   "moveMenuLeft": true,
   "nav_menu": {
    "height": "299px",
    "width": "251px"
   },
   "navigate_menu": true,
   "number_sections": true,
   "sideBar": true,
   "threshold": 4,
   "toc_cell": false,
   "toc_section_display": "block",
   "toc_window_display": false,
   "widenNotebook": false
  },
  "varInspector": {
   "cols": {
    "lenName": 16,
    "lenType": 16,
    "lenVar": 40
   },
   "kernels_config": {
    "python": {
     "delete_cmd_postfix": "",
     "delete_cmd_prefix": "del ",
     "library": "var_list.py",
     "varRefreshCmd": "print(var_dic_list())"
    },
    "r": {
     "delete_cmd_postfix": ") ",
     "delete_cmd_prefix": "rm(",
     "library": "var_list.r",
     "varRefreshCmd": "cat(var_dic_list()) "
    }
   },
   "oldHeight": 123.18181799999999,
   "position": {
    "height": "40px",
    "left": "1469.8px",
    "right": "20px",
    "top": "161px",
    "width": "250px"
   },
   "types_to_exclude": [
    "module",
    "function",
    "builtin_function_or_method",
    "instance",
    "_Feature"
   ],
   "varInspector_section_display": "none",
   "window_display": true
  }
 },
 "nbformat": 4,
 "nbformat_minor": 2
}
